{
 "cells": [
  {
   "cell_type": "markdown",
   "metadata": {},
   "source": [
    "# Análisis por Período"
   ]
  },
  {
   "cell_type": "markdown",
   "metadata": {},
   "source": [
    "#### Condiciones Iniciales:\n",
    " - Los Relevamientos se obtienen en varios csv\n",
    " - Debido al tiempo que se requiere para correr el scrapping puede que haya dos fechas para el mismo período (ponemos a correr el scrapper el 28 a la noche y termina el 29 a la mañana)\n",
    " - Los datos se guardan en una carpeta nombrada como le fecha del relevamiento (Ej: 20180928)\n",
    " - Internamente se guardan diversos csv que provienen de la estructura de scrapping que tenemos, todos cnon la misma estructura\n",
    " \n",
    "#### Objetivo:\n",
    "\n",
    "Un notebook que, a partir de fecha_inicio y fecha_fin, lea las carpetas de dicha fecha, levante los csv y realice comparativas de precios desde el inicio del periodo al fin del mismo."
   ]
  },
  {
   "cell_type": "markdown",
   "metadata": {},
   "source": [
    "#### Parámetros"
   ]
  },
  {
   "cell_type": "code",
   "execution_count": 2,
   "metadata": {},
   "outputs": [],
   "source": [
    "fecha_inicio_relevamiento = \"20200413\" # Las fecha debe coincidir con nombres de carpetas\n",
    "fecha_fin_relevamiento = \"20200419\" # Las fecha debe coincidir con nombres de carpetas\n",
    "\n",
    "provincia_relevamiento = \"AR-X\" # Córdoba\n",
    "\n",
    "sup_titulo_relevamiento = \"Precios Marzo 20\"\n",
    "titulo_relevamiento = \"Relevamiento del Programa Precios Claros hecho por @opendatacba, para la provincia de Córdoba.\"\n"
   ]
  },
  {
   "cell_type": "code",
   "execution_count": 4,
   "metadata": {},
   "outputs": [],
   "source": [
    "import os\n",
    "import pandas as pd\n",
    "import matplotlib.pyplot as plt\n",
    "plt.rcParams['figure.figsize'] = (10,6)"
   ]
  },
  {
   "cell_type": "code",
   "execution_count": 6,
   "metadata": {},
   "outputs": [],
   "source": [
    "def obtener_path_archivos_de_precios(fecha):\n",
    "    \"\"\"Funcion para obtener el listado de archivos csv que almacenan los precios para el relevamiento\n",
    "    hecho en la fecha pasada por parámetro\"\"\"\n",
    "    \n",
    "    files_to_read = []\n",
    "    root_precios = os.path.join(\".\",\"datasets\",\"precios\", fecha)\n",
    "    for root, dirs, files in os.walk(root_precios):\n",
    "        for fname in files:\n",
    "            files_to_read.append(os.path.join(root, fname))\n",
    "            \n",
    "    return(files_to_read)"
   ]
  },
  {
   "cell_type": "code",
   "execution_count": 23,
   "metadata": {},
   "outputs": [],
   "source": [
    "def obtener_dataset_relevamiento(fecha, inicio_periodo):\n",
    "    \"\"\"Funcion que lee la carpeta correspondiente y devuelve un dataframe \n",
    "    conteniendo los datos del producto, del establecimiento relevado, el precio\n",
    "    relevado y la fecha del relevamiento\"\"\"\n",
    "        \n",
    "    path_archivos_datos = obtener_path_archivos_de_precios(fecha)\n",
    "    columnas_a_leer = [\"precio\", \"producto_id\", \"sucursal_id\"]\n",
    "\n",
    "    precios = pd.concat((pd.read_csv(f, low_memory=False, usecols=columnas_a_leer) for f in path_archivos_datos))\n",
    "\n",
    "    precios = precios[precios[\"precio\"].notnull()]\n",
    "\n",
    "    # Piso la fecha en la cual se ejecuto el scrapper por la fecha del relevamiento (ver consideraciones)\n",
    "    precios[\"fecha_relevamiento\"] = pd.to_datetime(fecha)\n",
    "    \n",
    "    if inicio_periodo:\n",
    "        precios.rename({\"fecha_relevamiento\":\"fecha_relevamiento_inicio_periodo\",\"precio\": \"precio_inicio_periodo\"}, axis=\"columns\", inplace=True)\n",
    "    else:\n",
    "        precios.rename({\"fecha_relevamiento\":\"fecha_relevamiento_fin_periodo\",\"precio\": \"precio_fin_periodo\"}, axis=\"columns\", inplace=True)   \n",
    "    \n",
    "    return(precios)"
   ]
  },
  {
   "cell_type": "markdown",
   "metadata": {},
   "source": [
    "## Armar dataset comparativo para el Período"
   ]
  },
  {
   "cell_type": "markdown",
   "metadata": {},
   "source": [
    "#### Cargar datasets de precios y comparar periodos"
   ]
  },
  {
   "cell_type": "code",
   "execution_count": 134,
   "metadata": {},
   "outputs": [
    {
     "data": {
      "text/html": [
       "<div>\n",
       "<style scoped>\n",
       "    .dataframe tbody tr th:only-of-type {\n",
       "        vertical-align: middle;\n",
       "    }\n",
       "\n",
       "    .dataframe tbody tr th {\n",
       "        vertical-align: top;\n",
       "    }\n",
       "\n",
       "    .dataframe thead th {\n",
       "        text-align: right;\n",
       "    }\n",
       "</style>\n",
       "<table border=\"1\" class=\"dataframe\">\n",
       "  <thead>\n",
       "    <tr style=\"text-align: right;\">\n",
       "      <th></th>\n",
       "      <th>producto_id</th>\n",
       "      <th>sucursal_id</th>\n",
       "      <th>precio_inicio_periodo</th>\n",
       "      <th>precio_fin_periodo</th>\n",
       "      <th>variacion_periodo</th>\n",
       "    </tr>\n",
       "  </thead>\n",
       "  <tbody>\n",
       "    <tr>\n",
       "      <th>0</th>\n",
       "      <td>0000000221184</td>\n",
       "      <td>9-2-583</td>\n",
       "      <td>259.0</td>\n",
       "      <td>259.0</td>\n",
       "      <td>0.0</td>\n",
       "    </tr>\n",
       "    <tr>\n",
       "      <th>1</th>\n",
       "      <td>0000000221184</td>\n",
       "      <td>9-2-953</td>\n",
       "      <td>439.0</td>\n",
       "      <td>439.0</td>\n",
       "      <td>0.0</td>\n",
       "    </tr>\n",
       "    <tr>\n",
       "      <th>2</th>\n",
       "      <td>0000000231688</td>\n",
       "      <td>9-2-583</td>\n",
       "      <td>69.9</td>\n",
       "      <td>69.9</td>\n",
       "      <td>0.0</td>\n",
       "    </tr>\n",
       "    <tr>\n",
       "      <th>3</th>\n",
       "      <td>0000000231688</td>\n",
       "      <td>9-2-953</td>\n",
       "      <td>110.0</td>\n",
       "      <td>110.0</td>\n",
       "      <td>0.0</td>\n",
       "    </tr>\n",
       "    <tr>\n",
       "      <th>4</th>\n",
       "      <td>0000000288989</td>\n",
       "      <td>9-2-583</td>\n",
       "      <td>394.9</td>\n",
       "      <td>394.9</td>\n",
       "      <td>0.0</td>\n",
       "    </tr>\n",
       "  </tbody>\n",
       "</table>\n",
       "</div>"
      ],
      "text/plain": [
       "     producto_id sucursal_id  precio_inicio_periodo  precio_fin_periodo  \\\n",
       "0  0000000221184     9-2-583                  259.0               259.0   \n",
       "1  0000000221184     9-2-953                  439.0               439.0   \n",
       "2  0000000231688     9-2-583                   69.9                69.9   \n",
       "3  0000000231688     9-2-953                  110.0               110.0   \n",
       "4  0000000288989     9-2-583                  394.9               394.9   \n",
       "\n",
       "   variacion_periodo  \n",
       "0                0.0  \n",
       "1                0.0  \n",
       "2                0.0  \n",
       "3                0.0  \n",
       "4                0.0  "
      ]
     },
     "execution_count": 134,
     "metadata": {},
     "output_type": "execute_result"
    }
   ],
   "source": [
    "df_inicio = obtener_dataset_relevamiento(fecha_inicio_relevamiento, inicio_periodo=True)\n",
    "df_fin = obtener_dataset_relevamiento(fecha_fin_relevamiento, inicio_periodo=False)\n",
    "\n",
    "df_precios = df_inicio.merge(df_fin, left_on=[\"producto_id\", \"sucursal_id\"], right_on=[\"producto_id\", \"sucursal_id\"])\n",
    "df_precios = df_precios[[\"producto_id\", \"sucursal_id\", \"precio_inicio_periodo\", \"precio_fin_periodo\"]]\n",
    "df_precios[\"variacion_periodo\"] = round((df_precios[\"precio_fin_periodo\"] / df_precios[\"precio_inicio_periodo\"]) - 1,2)\n",
    "df_precios.head()"
   ]
  },
  {
   "cell_type": "code",
   "execution_count": 135,
   "metadata": {},
   "outputs": [
    {
     "data": {
      "text/html": [
       "<div>\n",
       "<style scoped>\n",
       "    .dataframe tbody tr th:only-of-type {\n",
       "        vertical-align: middle;\n",
       "    }\n",
       "\n",
       "    .dataframe tbody tr th {\n",
       "        vertical-align: top;\n",
       "    }\n",
       "\n",
       "    .dataframe thead th {\n",
       "        text-align: right;\n",
       "    }\n",
       "</style>\n",
       "<table border=\"1\" class=\"dataframe\">\n",
       "  <thead>\n",
       "    <tr style=\"text-align: right;\">\n",
       "      <th></th>\n",
       "      <th>producto_id</th>\n",
       "      <th>sucursal_id</th>\n",
       "      <th>precio_inicio_periodo</th>\n",
       "      <th>precio_fin_periodo</th>\n",
       "      <th>variacion_periodo</th>\n",
       "    </tr>\n",
       "  </thead>\n",
       "  <tbody>\n",
       "    <tr>\n",
       "      <th>34562</th>\n",
       "      <td>7702018037803</td>\n",
       "      <td>10-3-644</td>\n",
       "      <td>179.00</td>\n",
       "      <td>384.00</td>\n",
       "      <td>1.15</td>\n",
       "    </tr>\n",
       "    <tr>\n",
       "      <th>34563</th>\n",
       "      <td>7702018037803</td>\n",
       "      <td>2-3-246</td>\n",
       "      <td>418.00</td>\n",
       "      <td>418.00</td>\n",
       "      <td>0.00</td>\n",
       "    </tr>\n",
       "    <tr>\n",
       "      <th>34564</th>\n",
       "      <td>7702018037803</td>\n",
       "      <td>2-3-247</td>\n",
       "      <td>429.00</td>\n",
       "      <td>429.00</td>\n",
       "      <td>0.00</td>\n",
       "    </tr>\n",
       "    <tr>\n",
       "      <th>34565</th>\n",
       "      <td>7702018037803</td>\n",
       "      <td>47-1-1</td>\n",
       "      <td>419.65</td>\n",
       "      <td>419.65</td>\n",
       "      <td>0.00</td>\n",
       "    </tr>\n",
       "    <tr>\n",
       "      <th>34566</th>\n",
       "      <td>7702018037803</td>\n",
       "      <td>6-1-9</td>\n",
       "      <td>404.25</td>\n",
       "      <td>404.25</td>\n",
       "      <td>0.00</td>\n",
       "    </tr>\n",
       "    <tr>\n",
       "      <th>34567</th>\n",
       "      <td>7702018037803</td>\n",
       "      <td>6-2-21</td>\n",
       "      <td>404.25</td>\n",
       "      <td>404.25</td>\n",
       "      <td>0.00</td>\n",
       "    </tr>\n",
       "    <tr>\n",
       "      <th>34568</th>\n",
       "      <td>7702018037803</td>\n",
       "      <td>9-1-910</td>\n",
       "      <td>479.00</td>\n",
       "      <td>479.00</td>\n",
       "      <td>0.00</td>\n",
       "    </tr>\n",
       "    <tr>\n",
       "      <th>34569</th>\n",
       "      <td>7702018037803</td>\n",
       "      <td>9-2-583</td>\n",
       "      <td>519.00</td>\n",
       "      <td>519.00</td>\n",
       "      <td>0.00</td>\n",
       "    </tr>\n",
       "    <tr>\n",
       "      <th>34570</th>\n",
       "      <td>7702018037803</td>\n",
       "      <td>9-3-5216</td>\n",
       "      <td>519.00</td>\n",
       "      <td>519.00</td>\n",
       "      <td>0.00</td>\n",
       "    </tr>\n",
       "  </tbody>\n",
       "</table>\n",
       "</div>"
      ],
      "text/plain": [
       "         producto_id sucursal_id  precio_inicio_periodo  precio_fin_periodo  \\\n",
       "34562  7702018037803    10-3-644                 179.00              384.00   \n",
       "34563  7702018037803     2-3-246                 418.00              418.00   \n",
       "34564  7702018037803     2-3-247                 429.00              429.00   \n",
       "34565  7702018037803      47-1-1                 419.65              419.65   \n",
       "34566  7702018037803       6-1-9                 404.25              404.25   \n",
       "34567  7702018037803      6-2-21                 404.25              404.25   \n",
       "34568  7702018037803     9-1-910                 479.00              479.00   \n",
       "34569  7702018037803     9-2-583                 519.00              519.00   \n",
       "34570  7702018037803    9-3-5216                 519.00              519.00   \n",
       "\n",
       "       variacion_periodo  \n",
       "34562               1.15  \n",
       "34563               0.00  \n",
       "34564               0.00  \n",
       "34565               0.00  \n",
       "34566               0.00  \n",
       "34567               0.00  \n",
       "34568               0.00  \n",
       "34569               0.00  \n",
       "34570               0.00  "
      ]
     },
     "execution_count": 135,
     "metadata": {},
     "output_type": "execute_result"
    }
   ],
   "source": [
    "df_precios.query('producto_id == \"7702018037803\"')"
   ]
  },
  {
   "cell_type": "markdown",
   "metadata": {},
   "source": [
    "#### Merge con datasets de Productos"
   ]
  },
  {
   "cell_type": "code",
   "execution_count": 136,
   "metadata": {},
   "outputs": [
    {
     "data": {
      "text/html": [
       "<div>\n",
       "<style scoped>\n",
       "    .dataframe tbody tr th:only-of-type {\n",
       "        vertical-align: middle;\n",
       "    }\n",
       "\n",
       "    .dataframe tbody tr th {\n",
       "        vertical-align: top;\n",
       "    }\n",
       "\n",
       "    .dataframe thead th {\n",
       "        text-align: right;\n",
       "    }\n",
       "</style>\n",
       "<table border=\"1\" class=\"dataframe\">\n",
       "  <thead>\n",
       "    <tr style=\"text-align: right;\">\n",
       "      <th></th>\n",
       "      <th>producto_id</th>\n",
       "      <th>sucursal_id</th>\n",
       "      <th>precio_inicio_periodo</th>\n",
       "      <th>precio_fin_periodo</th>\n",
       "      <th>variacion_periodo</th>\n",
       "      <th>marca</th>\n",
       "      <th>nombre</th>\n",
       "      <th>presentacion</th>\n",
       "    </tr>\n",
       "  </thead>\n",
       "  <tbody>\n",
       "    <tr>\n",
       "      <th>34563</th>\n",
       "      <td>7702018037803</td>\n",
       "      <td>10-3-644</td>\n",
       "      <td>179.00</td>\n",
       "      <td>384.00</td>\n",
       "      <td>1.15</td>\n",
       "      <td>GILLETTE</td>\n",
       "      <td>Rasuradora Recargable Mach3 Sensitibe Gillette...</td>\n",
       "      <td>1.0 un</td>\n",
       "    </tr>\n",
       "    <tr>\n",
       "      <th>34564</th>\n",
       "      <td>7702018037803</td>\n",
       "      <td>2-3-246</td>\n",
       "      <td>418.00</td>\n",
       "      <td>418.00</td>\n",
       "      <td>0.00</td>\n",
       "      <td>GILLETTE</td>\n",
       "      <td>Rasuradora Recargable Mach3 Sensitibe Gillette...</td>\n",
       "      <td>1.0 un</td>\n",
       "    </tr>\n",
       "    <tr>\n",
       "      <th>34565</th>\n",
       "      <td>7702018037803</td>\n",
       "      <td>2-3-247</td>\n",
       "      <td>429.00</td>\n",
       "      <td>429.00</td>\n",
       "      <td>0.00</td>\n",
       "      <td>GILLETTE</td>\n",
       "      <td>Rasuradora Recargable Mach3 Sensitibe Gillette...</td>\n",
       "      <td>1.0 un</td>\n",
       "    </tr>\n",
       "    <tr>\n",
       "      <th>34566</th>\n",
       "      <td>7702018037803</td>\n",
       "      <td>47-1-1</td>\n",
       "      <td>419.65</td>\n",
       "      <td>419.65</td>\n",
       "      <td>0.00</td>\n",
       "      <td>GILLETTE</td>\n",
       "      <td>Rasuradora Recargable Mach3 Sensitibe Gillette...</td>\n",
       "      <td>1.0 un</td>\n",
       "    </tr>\n",
       "    <tr>\n",
       "      <th>34567</th>\n",
       "      <td>7702018037803</td>\n",
       "      <td>6-1-9</td>\n",
       "      <td>404.25</td>\n",
       "      <td>404.25</td>\n",
       "      <td>0.00</td>\n",
       "      <td>GILLETTE</td>\n",
       "      <td>Rasuradora Recargable Mach3 Sensitibe Gillette...</td>\n",
       "      <td>1.0 un</td>\n",
       "    </tr>\n",
       "    <tr>\n",
       "      <th>34568</th>\n",
       "      <td>7702018037803</td>\n",
       "      <td>6-2-21</td>\n",
       "      <td>404.25</td>\n",
       "      <td>404.25</td>\n",
       "      <td>0.00</td>\n",
       "      <td>GILLETTE</td>\n",
       "      <td>Rasuradora Recargable Mach3 Sensitibe Gillette...</td>\n",
       "      <td>1.0 un</td>\n",
       "    </tr>\n",
       "    <tr>\n",
       "      <th>34569</th>\n",
       "      <td>7702018037803</td>\n",
       "      <td>9-1-910</td>\n",
       "      <td>479.00</td>\n",
       "      <td>479.00</td>\n",
       "      <td>0.00</td>\n",
       "      <td>GILLETTE</td>\n",
       "      <td>Rasuradora Recargable Mach3 Sensitibe Gillette...</td>\n",
       "      <td>1.0 un</td>\n",
       "    </tr>\n",
       "    <tr>\n",
       "      <th>34570</th>\n",
       "      <td>7702018037803</td>\n",
       "      <td>9-2-583</td>\n",
       "      <td>519.00</td>\n",
       "      <td>519.00</td>\n",
       "      <td>0.00</td>\n",
       "      <td>GILLETTE</td>\n",
       "      <td>Rasuradora Recargable Mach3 Sensitibe Gillette...</td>\n",
       "      <td>1.0 un</td>\n",
       "    </tr>\n",
       "    <tr>\n",
       "      <th>34571</th>\n",
       "      <td>7702018037803</td>\n",
       "      <td>9-3-5216</td>\n",
       "      <td>519.00</td>\n",
       "      <td>519.00</td>\n",
       "      <td>0.00</td>\n",
       "      <td>GILLETTE</td>\n",
       "      <td>Rasuradora Recargable Mach3 Sensitibe Gillette...</td>\n",
       "      <td>1.0 un</td>\n",
       "    </tr>\n",
       "  </tbody>\n",
       "</table>\n",
       "</div>"
      ],
      "text/plain": [
       "         producto_id sucursal_id  precio_inicio_periodo  precio_fin_periodo  \\\n",
       "34563  7702018037803    10-3-644                 179.00              384.00   \n",
       "34564  7702018037803     2-3-246                 418.00              418.00   \n",
       "34565  7702018037803     2-3-247                 429.00              429.00   \n",
       "34566  7702018037803      47-1-1                 419.65              419.65   \n",
       "34567  7702018037803       6-1-9                 404.25              404.25   \n",
       "34568  7702018037803      6-2-21                 404.25              404.25   \n",
       "34569  7702018037803     9-1-910                 479.00              479.00   \n",
       "34570  7702018037803     9-2-583                 519.00              519.00   \n",
       "34571  7702018037803    9-3-5216                 519.00              519.00   \n",
       "\n",
       "       variacion_periodo     marca  \\\n",
       "34563               1.15  GILLETTE   \n",
       "34564               0.00  GILLETTE   \n",
       "34565               0.00  GILLETTE   \n",
       "34566               0.00  GILLETTE   \n",
       "34567               0.00  GILLETTE   \n",
       "34568               0.00  GILLETTE   \n",
       "34569               0.00  GILLETTE   \n",
       "34570               0.00  GILLETTE   \n",
       "34571               0.00  GILLETTE   \n",
       "\n",
       "                                                  nombre presentacion  \n",
       "34563  Rasuradora Recargable Mach3 Sensitibe Gillette...       1.0 un  \n",
       "34564  Rasuradora Recargable Mach3 Sensitibe Gillette...       1.0 un  \n",
       "34565  Rasuradora Recargable Mach3 Sensitibe Gillette...       1.0 un  \n",
       "34566  Rasuradora Recargable Mach3 Sensitibe Gillette...       1.0 un  \n",
       "34567  Rasuradora Recargable Mach3 Sensitibe Gillette...       1.0 un  \n",
       "34568  Rasuradora Recargable Mach3 Sensitibe Gillette...       1.0 un  \n",
       "34569  Rasuradora Recargable Mach3 Sensitibe Gillette...       1.0 un  \n",
       "34570  Rasuradora Recargable Mach3 Sensitibe Gillette...       1.0 un  \n",
       "34571  Rasuradora Recargable Mach3 Sensitibe Gillette...       1.0 un  "
      ]
     },
     "execution_count": 136,
     "metadata": {},
     "output_type": "execute_result"
    }
   ],
   "source": [
    "productos = pd.read_csv(\"./datasets/productos.csv\")\n",
    "productos = productos.drop_duplicates() # El csv tiene muchos duplicados\n",
    "df_precios = df_precios.merge(productos, left_on=\"producto_id\", right_on=\"id\")\n",
    "\n",
    "df_precios[\"nombre\"] = df_precios[\"nombre\"].astype(\"category\")\n",
    "df_precios[\"marca\"] = df_precios[\"marca\"].astype(\"category\")\n",
    "df_precios[\"presentacion\"] = df_precios[\"presentacion\"].astype(\"category\")\n",
    "df_precios.drop(\"id\", axis=\"columns\", inplace=True)\n",
    "df_precios.query('producto_id == \"7702018037803\"')"
   ]
  },
  {
   "cell_type": "markdown",
   "metadata": {},
   "source": [
    "#### Merge con datasets de Sucursales y filtrar por Córdoba"
   ]
  },
  {
   "cell_type": "code",
   "execution_count": 137,
   "metadata": {},
   "outputs": [],
   "source": [
    "sucursales = pd.read_csv(\"./datasets/sucursales.csv\")\n",
    "#sucursales = sucursales[sucursales.provincia == provincia_relevamiento]\n",
    "sucursales['sucursal_id'] = sucursales.apply(lambda x: f\"{x['banderaId']}-{x['comercioId']}-{x['provincia']}\", axis=1)\n",
    "\n",
    "#cadenas = pd.read_csv('./datasets/cadenas.csv', usecols=['comercioId', 'banderaId', 'comercioRazonSocial', 'banderaDescripcion'])\n",
    "#cadenas.rename(dict(zip(cadenas.columns[-2:], ['empresa', 'cadena'])), inplace=True, axis=\"columns\")\n",
    "#sucursales = pd.merge(sucursales, cadenas, on=['comercioId', 'banderaId'])\n",
    "#sucursales.drop(['provincia', 'sucursalId', 'comercioId', 'banderaId', \"lat\", \"lng\"], axis=\"columns\", inplace=True)\n",
    "#sucursales.query('id in [\"10-3-644\", \"2-3-246\", \"2-3-247\", \"47-1-1\", \"6-1-9\", \"6-2-21\", \"9-1-910\", \"9-2-583\", \"9-3-5216\"]')\n",
    "\n",
    "\n",
    "df_precios = df_precios.merge(sucursales, left_on='sucursal_id', right_on='id')\n",
    "df_precios.drop(['sucursal_id_y', 'sucursalTipo', 'comercioId', 'banderaId', 'lat', 'lng', 'direccion', 'id'], axis=\"columns\", inplace=True)"
   ]
  },
  {
   "cell_type": "code",
   "execution_count": 141,
   "metadata": {},
   "outputs": [
    {
     "data": {
      "text/html": [
       "<div>\n",
       "<style scoped>\n",
       "    .dataframe tbody tr th:only-of-type {\n",
       "        vertical-align: middle;\n",
       "    }\n",
       "\n",
       "    .dataframe tbody tr th {\n",
       "        vertical-align: top;\n",
       "    }\n",
       "\n",
       "    .dataframe thead th {\n",
       "        text-align: right;\n",
       "    }\n",
       "</style>\n",
       "<table border=\"1\" class=\"dataframe\">\n",
       "  <thead>\n",
       "    <tr style=\"text-align: right;\">\n",
       "      <th></th>\n",
       "      <th>marca</th>\n",
       "      <th>nombre</th>\n",
       "      <th>producto_id</th>\n",
       "      <th>precio_fin_periodo</th>\n",
       "      <th>comercioRazonSocial</th>\n",
       "      <th>localidad</th>\n",
       "    </tr>\n",
       "  </thead>\n",
       "  <tbody>\n",
       "    <tr>\n",
       "      <th>453</th>\n",
       "      <td>GILLETTE</td>\n",
       "      <td>Rasuradora Recargable Mach3 Sensitibe Gillette...</td>\n",
       "      <td>7702018037803</td>\n",
       "      <td>519.00</td>\n",
       "      <td>Jumbo Retail Argentina S.A.</td>\n",
       "      <td>VILLA ALLENDE</td>\n",
       "    </tr>\n",
       "    <tr>\n",
       "      <th>27715</th>\n",
       "      <td>GILLETTE</td>\n",
       "      <td>Rasuradora Recargable Mach3 Sensitibe Gillette...</td>\n",
       "      <td>7702018037803</td>\n",
       "      <td>418.00</td>\n",
       "      <td>S.A. Importadora y Exportadora de la Patagonia</td>\n",
       "      <td>Villa Regina</td>\n",
       "    </tr>\n",
       "    <tr>\n",
       "      <th>30159</th>\n",
       "      <td>GILLETTE</td>\n",
       "      <td>Rasuradora Recargable Mach3 Sensitibe Gillette...</td>\n",
       "      <td>7702018037803</td>\n",
       "      <td>429.00</td>\n",
       "      <td>S.A. Importadora y Exportadora de la Patagonia</td>\n",
       "      <td>Zapala</td>\n",
       "    </tr>\n",
       "    <tr>\n",
       "      <th>32653</th>\n",
       "      <td>GILLETTE</td>\n",
       "      <td>Rasuradora Recargable Mach3 Sensitibe Gillette...</td>\n",
       "      <td>7702018037803</td>\n",
       "      <td>404.25</td>\n",
       "      <td>Alberdi S.A.</td>\n",
       "      <td>Salta</td>\n",
       "    </tr>\n",
       "    <tr>\n",
       "      <th>39547</th>\n",
       "      <td>GILLETTE</td>\n",
       "      <td>Rasuradora Recargable Mach3 Sensitibe Gillette...</td>\n",
       "      <td>7702018037803</td>\n",
       "      <td>404.25</td>\n",
       "      <td>Alberdi S.A.</td>\n",
       "      <td>San Ramon de la Nueva Oran</td>\n",
       "    </tr>\n",
       "    <tr>\n",
       "      <th>46816</th>\n",
       "      <td>GILLETTE</td>\n",
       "      <td>Rasuradora Recargable Mach3 Sensitibe Gillette...</td>\n",
       "      <td>7702018037803</td>\n",
       "      <td>419.65</td>\n",
       "      <td>Cooperativa Agrícola Ganadera e Industrial de ...</td>\n",
       "      <td>Carmen de Patagones</td>\n",
       "    </tr>\n",
       "    <tr>\n",
       "      <th>54216</th>\n",
       "      <td>GILLETTE</td>\n",
       "      <td>Rasuradora Recargable Mach3 Sensitibe Gillette...</td>\n",
       "      <td>7702018037803</td>\n",
       "      <td>519.00</td>\n",
       "      <td>Jumbo Retail Argentina S.A.</td>\n",
       "      <td>NEUQUEN</td>\n",
       "    </tr>\n",
       "    <tr>\n",
       "      <th>137949</th>\n",
       "      <td>GILLETTE</td>\n",
       "      <td>Rasuradora Recargable Mach3 Sensitibe Gillette...</td>\n",
       "      <td>7702018037803</td>\n",
       "      <td>384.00</td>\n",
       "      <td>INC S.A.</td>\n",
       "      <td>Córdoba</td>\n",
       "    </tr>\n",
       "    <tr>\n",
       "      <th>179878</th>\n",
       "      <td>GILLETTE</td>\n",
       "      <td>Rasuradora Recargable Mach3 Sensitibe Gillette...</td>\n",
       "      <td>7702018037803</td>\n",
       "      <td>479.00</td>\n",
       "      <td>Jumbo Retail Argentina S.A.</td>\n",
       "      <td>GENERAL ROCA</td>\n",
       "    </tr>\n",
       "  </tbody>\n",
       "</table>\n",
       "</div>"
      ],
      "text/plain": [
       "           marca                                             nombre  \\\n",
       "453     GILLETTE  Rasuradora Recargable Mach3 Sensitibe Gillette...   \n",
       "27715   GILLETTE  Rasuradora Recargable Mach3 Sensitibe Gillette...   \n",
       "30159   GILLETTE  Rasuradora Recargable Mach3 Sensitibe Gillette...   \n",
       "32653   GILLETTE  Rasuradora Recargable Mach3 Sensitibe Gillette...   \n",
       "39547   GILLETTE  Rasuradora Recargable Mach3 Sensitibe Gillette...   \n",
       "46816   GILLETTE  Rasuradora Recargable Mach3 Sensitibe Gillette...   \n",
       "54216   GILLETTE  Rasuradora Recargable Mach3 Sensitibe Gillette...   \n",
       "137949  GILLETTE  Rasuradora Recargable Mach3 Sensitibe Gillette...   \n",
       "179878  GILLETTE  Rasuradora Recargable Mach3 Sensitibe Gillette...   \n",
       "\n",
       "          producto_id  precio_fin_periodo  \\\n",
       "453     7702018037803              519.00   \n",
       "27715   7702018037803              418.00   \n",
       "30159   7702018037803              429.00   \n",
       "32653   7702018037803              404.25   \n",
       "39547   7702018037803              404.25   \n",
       "46816   7702018037803              419.65   \n",
       "54216   7702018037803              519.00   \n",
       "137949  7702018037803              384.00   \n",
       "179878  7702018037803              479.00   \n",
       "\n",
       "                                      comercioRazonSocial  \\\n",
       "453                           Jumbo Retail Argentina S.A.   \n",
       "27715      S.A. Importadora y Exportadora de la Patagonia   \n",
       "30159      S.A. Importadora y Exportadora de la Patagonia   \n",
       "32653                                        Alberdi S.A.   \n",
       "39547                                        Alberdi S.A.   \n",
       "46816   Cooperativa Agrícola Ganadera e Industrial de ...   \n",
       "54216                         Jumbo Retail Argentina S.A.   \n",
       "137949                                           INC S.A.   \n",
       "179878                        Jumbo Retail Argentina S.A.   \n",
       "\n",
       "                         localidad  \n",
       "453                  VILLA ALLENDE  \n",
       "27715                 Villa Regina  \n",
       "30159                       Zapala  \n",
       "32653                        Salta  \n",
       "39547   San Ramon de la Nueva Oran  \n",
       "46816         Carmen de Patagones   \n",
       "54216                      NEUQUEN  \n",
       "137949                     Córdoba  \n",
       "179878                GENERAL ROCA  "
      ]
     },
     "execution_count": 141,
     "metadata": {},
     "output_type": "execute_result"
    }
   ],
   "source": [
    "df_precios[['marca', 'nombre', 'producto_id', 'precio_fin_periodo', 'comercioRazonSocial', 'localidad']] \\\n",
    "    .query('producto_id == \"7702018037803\"')"
   ]
  },
  {
   "cell_type": "markdown",
   "metadata": {},
   "source": [
    "#### Inspeccion final"
   ]
  },
  {
   "cell_type": "code",
   "execution_count": 127,
   "metadata": {},
   "outputs": [
    {
     "data": {
      "text/html": [
       "<div>\n",
       "<style scoped>\n",
       "    .dataframe tbody tr th:only-of-type {\n",
       "        vertical-align: middle;\n",
       "    }\n",
       "\n",
       "    .dataframe tbody tr th {\n",
       "        vertical-align: top;\n",
       "    }\n",
       "\n",
       "    .dataframe thead th {\n",
       "        text-align: right;\n",
       "    }\n",
       "</style>\n",
       "<table border=\"1\" class=\"dataframe\">\n",
       "  <thead>\n",
       "    <tr style=\"text-align: right;\">\n",
       "      <th></th>\n",
       "      <th>producto_id</th>\n",
       "      <th>sucursal_id_x</th>\n",
       "      <th>precio_inicio_periodo</th>\n",
       "      <th>precio_fin_periodo</th>\n",
       "      <th>variacion_periodo</th>\n",
       "      <th>marca</th>\n",
       "      <th>nombre</th>\n",
       "      <th>presentacion</th>\n",
       "      <th>id</th>\n",
       "      <th>banderaDescripcion</th>\n",
       "      <th>comercioRazonSocial</th>\n",
       "      <th>provincia</th>\n",
       "      <th>localidad</th>\n",
       "      <th>sucursalNombre</th>\n",
       "    </tr>\n",
       "  </thead>\n",
       "  <tbody>\n",
       "    <tr>\n",
       "      <th>0</th>\n",
       "      <td>0000000221184</td>\n",
       "      <td>9-2-583</td>\n",
       "      <td>259.0</td>\n",
       "      <td>259.0</td>\n",
       "      <td>0.0</td>\n",
       "      <td>PALADINI</td>\n",
       "      <td>Salchichon Feteado Paladini 1 Kg</td>\n",
       "      <td>1.0 kg</td>\n",
       "      <td>9-2-583</td>\n",
       "      <td>Disco</td>\n",
       "      <td>Jumbo Retail Argentina S.A.</td>\n",
       "      <td>AR-X</td>\n",
       "      <td>VILLA ALLENDE</td>\n",
       "      <td>SM 583 - Villa Allende.</td>\n",
       "    </tr>\n",
       "    <tr>\n",
       "      <th>1</th>\n",
       "      <td>0000000231688</td>\n",
       "      <td>9-2-583</td>\n",
       "      <td>69.9</td>\n",
       "      <td>69.9</td>\n",
       "      <td>0.0</td>\n",
       "      <td>DULCOR</td>\n",
       "      <td>Dulce de Zapallo Dulcor 1 Kg</td>\n",
       "      <td>1.0 kg</td>\n",
       "      <td>9-2-583</td>\n",
       "      <td>Disco</td>\n",
       "      <td>Jumbo Retail Argentina S.A.</td>\n",
       "      <td>AR-X</td>\n",
       "      <td>VILLA ALLENDE</td>\n",
       "      <td>SM 583 - Villa Allende.</td>\n",
       "    </tr>\n",
       "    <tr>\n",
       "      <th>2</th>\n",
       "      <td>0000000288989</td>\n",
       "      <td>9-2-583</td>\n",
       "      <td>394.9</td>\n",
       "      <td>394.9</td>\n",
       "      <td>0.0</td>\n",
       "      <td>CARNEVALLI</td>\n",
       "      <td>Chorizo de Cerdo Carnevalli 1 Kg</td>\n",
       "      <td>1.0 kg</td>\n",
       "      <td>9-2-583</td>\n",
       "      <td>Disco</td>\n",
       "      <td>Jumbo Retail Argentina S.A.</td>\n",
       "      <td>AR-X</td>\n",
       "      <td>VILLA ALLENDE</td>\n",
       "      <td>SM 583 - Villa Allende.</td>\n",
       "    </tr>\n",
       "    <tr>\n",
       "      <th>3</th>\n",
       "      <td>0000000289153</td>\n",
       "      <td>9-2-583</td>\n",
       "      <td>239.9</td>\n",
       "      <td>239.9</td>\n",
       "      <td>0.0</td>\n",
       "      <td>CARNEVALLI</td>\n",
       "      <td>Morcilla con Cebolla Carnevalli 1 Kg</td>\n",
       "      <td>1.0 kg</td>\n",
       "      <td>9-2-583</td>\n",
       "      <td>Disco</td>\n",
       "      <td>Jumbo Retail Argentina S.A.</td>\n",
       "      <td>AR-X</td>\n",
       "      <td>VILLA ALLENDE</td>\n",
       "      <td>SM 583 - Villa Allende.</td>\n",
       "    </tr>\n",
       "    <tr>\n",
       "      <th>4</th>\n",
       "      <td>0000000289177</td>\n",
       "      <td>9-2-583</td>\n",
       "      <td>489.9</td>\n",
       "      <td>489.9</td>\n",
       "      <td>0.0</td>\n",
       "      <td>CARNEVALLI</td>\n",
       "      <td>Salchichas Fresca Carnevalli 1 Kg</td>\n",
       "      <td>1.0 kg</td>\n",
       "      <td>9-2-583</td>\n",
       "      <td>Disco</td>\n",
       "      <td>Jumbo Retail Argentina S.A.</td>\n",
       "      <td>AR-X</td>\n",
       "      <td>VILLA ALLENDE</td>\n",
       "      <td>SM 583 - Villa Allende.</td>\n",
       "    </tr>\n",
       "  </tbody>\n",
       "</table>\n",
       "</div>"
      ],
      "text/plain": [
       "     producto_id sucursal_id_x  precio_inicio_periodo  precio_fin_periodo  \\\n",
       "0  0000000221184       9-2-583                  259.0               259.0   \n",
       "1  0000000231688       9-2-583                   69.9                69.9   \n",
       "2  0000000288989       9-2-583                  394.9               394.9   \n",
       "3  0000000289153       9-2-583                  239.9               239.9   \n",
       "4  0000000289177       9-2-583                  489.9               489.9   \n",
       "\n",
       "   variacion_periodo       marca                                nombre  \\\n",
       "0                0.0    PALADINI      Salchichon Feteado Paladini 1 Kg   \n",
       "1                0.0      DULCOR          Dulce de Zapallo Dulcor 1 Kg   \n",
       "2                0.0  CARNEVALLI      Chorizo de Cerdo Carnevalli 1 Kg   \n",
       "3                0.0  CARNEVALLI  Morcilla con Cebolla Carnevalli 1 Kg   \n",
       "4                0.0  CARNEVALLI     Salchichas Fresca Carnevalli 1 Kg   \n",
       "\n",
       "  presentacion       id banderaDescripcion          comercioRazonSocial  \\\n",
       "0       1.0 kg  9-2-583              Disco  Jumbo Retail Argentina S.A.   \n",
       "1       1.0 kg  9-2-583              Disco  Jumbo Retail Argentina S.A.   \n",
       "2       1.0 kg  9-2-583              Disco  Jumbo Retail Argentina S.A.   \n",
       "3       1.0 kg  9-2-583              Disco  Jumbo Retail Argentina S.A.   \n",
       "4       1.0 kg  9-2-583              Disco  Jumbo Retail Argentina S.A.   \n",
       "\n",
       "  provincia      localidad           sucursalNombre  \n",
       "0      AR-X  VILLA ALLENDE  SM 583 - Villa Allende.  \n",
       "1      AR-X  VILLA ALLENDE  SM 583 - Villa Allende.  \n",
       "2      AR-X  VILLA ALLENDE  SM 583 - Villa Allende.  \n",
       "3      AR-X  VILLA ALLENDE  SM 583 - Villa Allende.  \n",
       "4      AR-X  VILLA ALLENDE  SM 583 - Villa Allende.  "
      ]
     },
     "execution_count": 127,
     "metadata": {},
     "output_type": "execute_result"
    }
   ],
   "source": [
    "df_precios.head()"
   ]
  },
  {
   "cell_type": "markdown",
   "metadata": {},
   "source": [
    "### Analisis"
   ]
  },
  {
   "cell_type": "code",
   "execution_count": 36,
   "metadata": {},
   "outputs": [],
   "source": [
    "import matplotlib.pyplot as plt\n",
    "plt.rcParams['figure.figsize'] = (10,6)"
   ]
  },
  {
   "cell_type": "code",
   "execution_count": 10,
   "metadata": {},
   "outputs": [],
   "source": [
    "# Si queremos leer desde el csv limpio\n",
    "# columnas_categoricas = ['producto_id', 'sucursal_id', 'nombre', 'marca', 'presentacion', 'localidad', 'sucursalTipo', 'empresa', 'cadena']\n",
    "# tipo_columnas = ['category'] * len(columnas_categoricas)\n",
    "# col_types = dict(zip(columnas_categoricas, tipo_columnas))\n",
    "# df_precios = pd.read_csv(\"./datasets/analisis/cordoba_mes_de_septiembre.csv\", low_memory=False, dtype=col_types)"
   ]
  },
  {
   "cell_type": "code",
   "execution_count": 11,
   "metadata": {},
   "outputs": [],
   "source": [
    "# Sacamos outliers\n",
    "# df_precios = df_precios[(df_precios.variacion_periodo > -0.20) & (df_precios.variacion_periodo < 0.30)]"
   ]
  },
  {
   "cell_type": "code",
   "execution_count": 69,
   "metadata": {},
   "outputs": [
    {
     "data": {
      "text/plain": [
       "count    15200.000000\n",
       "mean         0.000364\n",
       "std          0.034752\n",
       "min         -0.520000\n",
       "25%          0.000000\n",
       "50%          0.000000\n",
       "75%          0.000000\n",
       "max          1.150000\n",
       "Name: variacion_periodo, dtype: float64"
      ]
     },
     "execution_count": 69,
     "metadata": {},
     "output_type": "execute_result"
    }
   ],
   "source": [
    "df_precios.variacion_periodo.describe()"
   ]
  },
  {
   "cell_type": "code",
   "execution_count": 70,
   "metadata": {},
   "outputs": [],
   "source": [
    "#ax = df_precios.groupby([\"empresa\",\"sucursalNombre\"])[\"variacion_periodo\"].mean().sort_values().plot(kind=\"barh\")\n",
    "#vals = ax.get_xticks()\n",
    "#ax.set_xticklabels(['{:,.2%}'.format(x) for x in vals])\n",
    "#plt.suptitle(sup_titulo_relevamiento, size=16)\n",
    "#plt.title(titulo_relevamiento, size=10)\n",
    "#plt.ylabel(\"\")\n",
    "#plt.xlabel(\"Aumento Promedio de Precios\", size=14)\n",
    "#plt.show()"
   ]
  },
  {
   "cell_type": "code",
   "execution_count": 71,
   "metadata": {},
   "outputs": [
    {
     "data": {
      "text/plain": [
       "comercioRazonSocial\n",
       "Cyre S.A.                                         0.003774\n",
       "Jumbo Retail Argentina S.A.                       0.000337\n",
       "Wal Mart Argentina S.R.L.                         0.000206\n",
       "Libertad S.A                                     -0.000088\n",
       "INC S.A.                                         -0.000684\n",
       "S.A. Importadora y Exportadora de la Patagonia   -0.008333\n",
       "Name: variacion_periodo, dtype: float64"
      ]
     },
     "execution_count": 71,
     "metadata": {},
     "output_type": "execute_result"
    }
   ],
   "source": [
    "df_precios.groupby([\"comercioRazonSocial\"])[\"variacion_periodo\"].mean().sort_values(ascending=False)"
   ]
  },
  {
   "cell_type": "code",
   "execution_count": 72,
   "metadata": {},
   "outputs": [
    {
     "data": {
      "image/png": "[encoded data removed]",
      "text/plain": [
       "<Figure size 720x432 with 1 Axes>"
      ]
     },
     "metadata": {
      "needs_background": "light"
     },
     "output_type": "display_data"
    }
   ],
   "source": [
    "ax = df_precios.groupby([\"comercioRazonSocial\"])[\"variacion_periodo\"].mean().sort_values(ascending=False).plot(kind=\"bar\")\n",
    "plt.suptitle(sup_titulo_relevamiento, size=16)\n",
    "plt.title(titulo_relevamiento, size=10)\n",
    "plt.xlabel(\"\")\n",
    "plt.ylabel(\"Aumento Promedio de Precios\", size=14)\n",
    "vals = ax.get_yticks()\n",
    "ax.set_yticklabels(['{:,.2%}'.format(x) for x in vals])\n",
    "plt.show()"
   ]
  },
  {
   "cell_type": "code",
   "execution_count": 73,
   "metadata": {},
   "outputs": [
    {
     "data": {
      "image/png": "[encoded data removed]",
      "text/plain": [
       "<Figure size 720x432 with 1 Axes>"
      ]
     },
     "metadata": {
      "needs_background": "light"
     },
     "output_type": "display_data"
    }
   ],
   "source": [
    "ax = df_precios.variacion_periodo.hist(bins=50)\n",
    "plt.suptitle(sup_titulo_relevamiento, size=16)\n",
    "plt.title(titulo_relevamiento, size=10)\n",
    "plt.ylabel(\"Cantidad de Productos\")\n",
    "plt.xlabel(\"Aumento Porcentual en el Precio\")\n",
    "ax.set_xticklabels(['{:,.2%}'.format(x) for x in vals])\n",
    "plt.show()"
   ]
  },
  {
   "cell_type": "code",
   "execution_count": 74,
   "metadata": {},
   "outputs": [
    {
     "data": {
      "image/png": "[encoded data removed]",
      "text/plain": [
       "<Figure size 720x432 with 1 Axes>"
      ]
     },
     "metadata": {
      "needs_background": "light"
     },
     "output_type": "display_data"
    }
   ],
   "source": [
    "aumentos_marcas = df_precios.groupby(\"marca\")[\"variacion_periodo\"].agg({\"mean\", \"count\"}).sort_values(ascending=False, by=\"mean\")\n",
    "# Nos aseguramos que haya suficientes precios relevados como para que sea representativo el promedio\n",
    "aumentos_marcas = aumentos_marcas[aumentos_marcas[\"count\"] > 50]\n",
    "aumentos_marcas.columns = [\"aumento_promedio\", \"cantidad_precios_relevados\"]\n",
    "\n",
    "ax = aumentos_marcas.aumento_promedio.head(15).sort_values().plot(kind=\"barh\")\n",
    "vals = ax.get_xticks()\n",
    "ax.set_xticklabels(['{:,.2%}'.format(x) for x in vals])\n",
    "plt.suptitle(sup_titulo_relevamiento + \" - Marcas que más aumentaron\", size=16)\n",
    "plt.title(titulo_relevamiento, size=10)\n",
    "plt.ylabel(\"Marca del Productos\")\n",
    "plt.xlabel(\"Aumento Promedio en el Precio\")\n",
    "plt.show()"
   ]
  },
  {
   "cell_type": "code",
   "execution_count": 75,
   "metadata": {},
   "outputs": [
    {
     "data": {
      "image/png": "[encoded data removed]",
      "text/plain": [
       "<Figure size 720x432 with 1 Axes>"
      ]
     },
     "metadata": {
      "needs_background": "light"
     },
     "output_type": "display_data"
    }
   ],
   "source": [
    "ax = aumentos_marcas.aumento_promedio.tail(15).sort_values().plot(kind=\"barh\")\n",
    "vals = ax.get_xticks()\n",
    "ax.set_xticklabels(['{:,.2%}'.format(x) for x in vals])\n",
    "plt.suptitle(sup_titulo_relevamiento + \" - Marcas que menos aumentaron\", size=16)\n",
    "plt.title(titulo_relevamiento, size=10)\n",
    "plt.ylabel(\"Marca del Productos\")\n",
    "plt.xlabel(\"Aumento Promedio en el Precio\")\n",
    "plt.show()"
   ]
  },
  {
   "cell_type": "markdown",
   "metadata": {},
   "source": [
    "## Analisis Productos"
   ]
  },
  {
   "cell_type": "code",
   "execution_count": 76,
   "metadata": {},
   "outputs": [],
   "source": [
    "def graficar_variacion_producto(df_producto, sup_title_producto):\n",
    "    ax = df_producto[\"mean\"].plot(kind=\"barh\")\n",
    "    vals = ax.get_xticks()\n",
    "    ax.set_xticklabels(['{:,.2%}'.format(x) for x in vals])\n",
    "    plt.suptitle(sup_titulo_relevamiento + \" - \" + sup_title_producto, size=16)\n",
    "    plt.title(titulo_relevamiento, size=10)\n",
    "    plt.ylabel(\"\")\n",
    "    plt.xlabel(\"Aumento Promedio en el Precio\", size=12)\n",
    "    plt.show()"
   ]
  },
  {
   "cell_type": "markdown",
   "metadata": {},
   "source": [
    "### Análisis Harinas"
   ]
  },
  {
   "cell_type": "code",
   "execution_count": 77,
   "metadata": {},
   "outputs": [
    {
     "data": {
      "image/png": "[encoded data removed]",
      "text/plain": [
       "<Figure size 720x432 with 1 Axes>"
      ]
     },
     "metadata": {
      "needs_background": "light"
     },
     "output_type": "display_data"
    }
   ],
   "source": [
    "df_harinas = df_precios[df_precios.nombre.str.contains(\"Harina de Trigo 000\")] \\\n",
    "    .groupby(\"marca\", observed=True)[\"variacion_periodo\"] \\\n",
    "    .agg({\"mean\",\"count\"})\\\n",
    "    .sort_values(by=\"mean\")\n",
    "\n",
    "graficar_variacion_producto(df_harinas, \"Harinas 000\")"
   ]
  },
  {
   "cell_type": "markdown",
   "metadata": {},
   "source": [
    "### Relevamiento Fideos"
   ]
  },
  {
   "cell_type": "code",
   "execution_count": 78,
   "metadata": {},
   "outputs": [
    {
     "data": {
      "image/png": "[encoded data removed]",
      "text/plain": [
       "<Figure size 720x432 with 1 Axes>"
      ]
     },
     "metadata": {
      "needs_background": "light"
     },
     "output_type": "display_data"
    }
   ],
   "source": [
    "df_fideos = df_precios[df_precios.nombre.str.contains(\"Fideos\")] \\\n",
    "    .groupby(\"marca\", observed=True)[\"variacion_periodo\"] \\\n",
    "    .agg({\"mean\",\"count\"})\\\n",
    "    .sort_values(by=\"mean\")\n",
    "\n",
    "df_fideos = df_fideos[df_fideos[\"count\"] > 10]\n",
    "\n",
    "graficar_variacion_producto(df_fideos, \"Fideos\")"
   ]
  },
  {
   "cell_type": "markdown",
   "metadata": {},
   "source": [
    "### Relevamiento Aceite"
   ]
  },
  {
   "cell_type": "code",
   "execution_count": 80,
   "metadata": {},
   "outputs": [
    {
     "data": {
      "text/html": [
       "<div>\n",
       "<style scoped>\n",
       "    .dataframe tbody tr th:only-of-type {\n",
       "        vertical-align: middle;\n",
       "    }\n",
       "\n",
       "    .dataframe tbody tr th {\n",
       "        vertical-align: top;\n",
       "    }\n",
       "\n",
       "    .dataframe thead th {\n",
       "        text-align: right;\n",
       "    }\n",
       "</style>\n",
       "<table border=\"1\" class=\"dataframe\">\n",
       "  <thead>\n",
       "    <tr style=\"text-align: right;\">\n",
       "      <th></th>\n",
       "      <th>mean</th>\n",
       "      <th>count</th>\n",
       "    </tr>\n",
       "    <tr>\n",
       "      <th>marca</th>\n",
       "      <th></th>\n",
       "      <th></th>\n",
       "    </tr>\n",
       "  </thead>\n",
       "  <tbody>\n",
       "  </tbody>\n",
       "</table>\n",
       "</div>"
      ],
      "text/plain": [
       "Empty DataFrame\n",
       "Columns: [mean, count]\n",
       "Index: []"
      ]
     },
     "execution_count": 80,
     "metadata": {},
     "output_type": "execute_result"
    }
   ],
   "source": [
    "mask_aceites = df_precios.nombre.str.contains(\"Aceite\")\n",
    "mask_presentacion = df_precios.presentacion.str.contains(\"1.0 lt\")\n",
    "\n",
    "df_aceites = df_precios[mask_aceites & mask_presentacion] \\\n",
    "    .groupby(\"marca\", observed=True)[\"variacion_periodo\"] \\\n",
    "    .agg({\"mean\",\"count\"})\\\n",
    "    .sort_values(by=\"mean\")\n",
    "\n",
    "#graficar_variacion_producto(df_aceites, \"Aceites 1 Litro\")\n",
    "df_aceites"
   ]
  },
  {
   "cell_type": "markdown",
   "metadata": {},
   "source": [
    "### Relevamiento Azúcar"
   ]
  },
  {
   "cell_type": "code",
   "execution_count": 81,
   "metadata": {},
   "outputs": [
    {
     "data": {
      "image/png": "[encoded data removed]",
      "text/plain": [
       "<Figure size 720x432 with 1 Axes>"
      ]
     },
     "metadata": {
      "needs_background": "light"
     },
     "output_type": "display_data"
    }
   ],
   "source": [
    "mask_azucar = df_precios.nombre.str.contains(\"^Azucar\")\n",
    "mask_presentacion_azucar = df_precios.presentacion.str.contains(\"1.0 kg\")\n",
    "\n",
    "df_azucar = df_precios[mask_azucar & mask_presentacion_azucar] \\\n",
    "    .groupby(\"marca\", observed=True)[\"variacion_periodo\"] \\\n",
    "    .agg({\"mean\",\"count\"})\\\n",
    "    .sort_values(by=\"mean\")\n",
    "    \n",
    "graficar_variacion_producto(df_azucar, \"Azúcar 1 Kilo\")"
   ]
  },
  {
   "cell_type": "markdown",
   "metadata": {},
   "source": [
    "### Relevamiento Yerba"
   ]
  },
  {
   "cell_type": "code",
   "execution_count": 82,
   "metadata": {},
   "outputs": [
    {
     "data": {
      "image/png": "[encoded data removed]",
      "text/plain": [
       "<Figure size 720x432 with 1 Axes>"
      ]
     },
     "metadata": {
      "needs_background": "light"
     },
     "output_type": "display_data"
    }
   ],
   "source": [
    "mask_azucar = df_precios.nombre.str.contains(\"^Yerba\")\n",
    "mask_presentacion_azucar = df_precios.presentacion.str.contains(\"1.0 kg\")\n",
    "\n",
    "df_yerba = df_precios[mask_azucar & mask_presentacion_azucar] \\\n",
    "    .groupby(\"marca\", observed=True)[\"variacion_periodo\"] \\\n",
    "    .agg({\"mean\",\"count\"})\\\n",
    "    .sort_values(by=\"mean\")\n",
    "    \n",
    "graficar_variacion_producto(df_yerba, \"Yerba 1 Kilo\")"
   ]
  },
  {
   "cell_type": "markdown",
   "metadata": {},
   "source": [
    "### Relevamiento Leche"
   ]
  },
  {
   "cell_type": "code",
   "execution_count": 83,
   "metadata": {},
   "outputs": [
    {
     "data": {
      "image/png": "[encoded data removed]",
      "text/plain": [
       "<Figure size 720x432 with 1 Axes>"
      ]
     },
     "metadata": {
      "needs_background": "light"
     },
     "output_type": "display_data"
    }
   ],
   "source": [
    "mask_leche = df_precios.nombre.str.contains(\"^Leche\")\n",
    "mask_presentacion_leche = df_precios.presentacion.str.contains(\"1.0 lt\")\n",
    "\n",
    "df_leche = df_precios[mask_leche & mask_presentacion_leche] \\\n",
    "    .groupby(\"marca\", observed=True)[\"variacion_periodo\"] \\\n",
    "    .agg({\"mean\",\"count\"})\\\n",
    "    .sort_values(by=\"mean\")\n",
    "    \n",
    "graficar_variacion_producto(df_leche, \"Leche 1 Litro\")"
   ]
  },
  {
   "cell_type": "markdown",
   "metadata": {},
   "source": [
    "### Relevamiento Arroz"
   ]
  },
  {
   "cell_type": "code",
   "execution_count": 84,
   "metadata": {},
   "outputs": [
    {
     "data": {
      "image/png": "[encoded data removed]",
      "text/plain": [
       "<Figure size 720x432 with 1 Axes>"
      ]
     },
     "metadata": {
      "needs_background": "light"
     },
     "output_type": "display_data"
    }
   ],
   "source": [
    "mask_arroz = df_precios.nombre.str.contains(\"^Arroz\")\n",
    "mask_presentacion_arroz = df_precios.presentacion.str.contains(\"1.0 kg\")\n",
    "\n",
    "df_arroz = df_precios[mask_arroz & mask_presentacion_arroz] \\\n",
    "    .groupby(\"marca\", observed=True)[\"variacion_periodo\"] \\\n",
    "    .agg({\"mean\",\"count\"})\\\n",
    "    .sort_values(by=\"mean\")\n",
    "    \n",
    "graficar_variacion_producto(df_arroz, \"Arroz 1 Kilo\")"
   ]
  },
  {
   "cell_type": "markdown",
   "metadata": {},
   "source": [
    "### Relevamiento Fernet"
   ]
  },
  {
   "cell_type": "code",
   "execution_count": 85,
   "metadata": {},
   "outputs": [
    {
     "data": {
      "image/png": "[encoded data removed]",
      "text/plain": [
       "<Figure size 720x432 with 1 Axes>"
      ]
     },
     "metadata": {
      "needs_background": "light"
     },
     "output_type": "display_data"
    }
   ],
   "source": [
    "mask_fernet = df_precios.nombre.str.contains(\"^Fernet\")\n",
    "mask_presentacion_fernet = df_precios.presentacion.str.contains(\"750.0 cc\")\n",
    "\n",
    "df_fernet = df_precios[mask_fernet & mask_presentacion_fernet] \\\n",
    "    .groupby(\"marca\", observed=True)[\"variacion_periodo\"] \\\n",
    "    .agg({\"mean\",\"count\"})\\\n",
    "    .sort_values(by=\"mean\")\n",
    "    \n",
    "graficar_variacion_producto(df_fernet, \"Fernet 750 cc\")"
   ]
  },
  {
   "cell_type": "markdown",
   "metadata": {},
   "source": [
    "## Tabla Comparativa Aumento Productos"
   ]
  },
  {
   "cell_type": "code",
   "execution_count": 86,
   "metadata": {},
   "outputs": [
    {
     "data": {
      "text/html": [
       "<div>\n",
       "<style scoped>\n",
       "    .dataframe tbody tr th:only-of-type {\n",
       "        vertical-align: middle;\n",
       "    }\n",
       "\n",
       "    .dataframe tbody tr th {\n",
       "        vertical-align: top;\n",
       "    }\n",
       "\n",
       "    .dataframe thead th {\n",
       "        text-align: right;\n",
       "    }\n",
       "</style>\n",
       "<table border=\"1\" class=\"dataframe\">\n",
       "  <thead>\n",
       "    <tr style=\"text-align: right;\">\n",
       "      <th></th>\n",
       "      <th>mean</th>\n",
       "      <th>min</th>\n",
       "      <th>max</th>\n",
       "    </tr>\n",
       "    <tr>\n",
       "      <th>producto</th>\n",
       "      <th></th>\n",
       "      <th></th>\n",
       "      <th></th>\n",
       "    </tr>\n",
       "  </thead>\n",
       "  <tbody>\n",
       "    <tr>\n",
       "      <th>Azucar</th>\n",
       "      <td>0.015000</td>\n",
       "      <td>0.000000</td>\n",
       "      <td>0.060000</td>\n",
       "    </tr>\n",
       "    <tr>\n",
       "      <th>Fideos</th>\n",
       "      <td>0.013590</td>\n",
       "      <td>0.000000</td>\n",
       "      <td>0.053333</td>\n",
       "    </tr>\n",
       "    <tr>\n",
       "      <th>Arroz</th>\n",
       "      <td>0.013003</td>\n",
       "      <td>-0.008462</td>\n",
       "      <td>0.100000</td>\n",
       "    </tr>\n",
       "    <tr>\n",
       "      <th>Leche</th>\n",
       "      <td>0.002108</td>\n",
       "      <td>-0.100000</td>\n",
       "      <td>0.090000</td>\n",
       "    </tr>\n",
       "    <tr>\n",
       "      <th>Yerba</th>\n",
       "      <td>0.001667</td>\n",
       "      <td>0.000000</td>\n",
       "      <td>0.030000</td>\n",
       "    </tr>\n",
       "    <tr>\n",
       "      <th>Harinas</th>\n",
       "      <td>0.000937</td>\n",
       "      <td>0.000000</td>\n",
       "      <td>0.007500</td>\n",
       "    </tr>\n",
       "    <tr>\n",
       "      <th>Fernet</th>\n",
       "      <td>-0.010000</td>\n",
       "      <td>-0.020000</td>\n",
       "      <td>0.000000</td>\n",
       "    </tr>\n",
       "  </tbody>\n",
       "</table>\n",
       "</div>"
      ],
      "text/plain": [
       "              mean       min       max\n",
       "producto                              \n",
       "Azucar    0.015000  0.000000  0.060000\n",
       "Fideos    0.013590  0.000000  0.053333\n",
       "Arroz     0.013003 -0.008462  0.100000\n",
       "Leche     0.002108 -0.100000  0.090000\n",
       "Yerba     0.001667  0.000000  0.030000\n",
       "Harinas   0.000937  0.000000  0.007500\n",
       "Fernet   -0.010000 -0.020000  0.000000"
      ]
     },
     "execution_count": 86,
     "metadata": {},
     "output_type": "execute_result"
    }
   ],
   "source": [
    "df_harinas[\"producto\"] = \"Harinas\"\n",
    "df_aceites[\"producto\"] = \"Aceites\"\n",
    "df_fideos[\"producto\"] = \"Fideos\"\n",
    "df_azucar[\"producto\"] = \"Azucar\"\n",
    "df_yerba[\"producto\"] = \"Yerba\"\n",
    "df_leche[\"producto\"] = \"Leche\"\n",
    "df_arroz[\"producto\"] = \"Arroz\"\n",
    "df_fernet[\"producto\"] = \"Fernet\"\n",
    "\n",
    "df_productos = pd.concat([df_harinas, df_aceites, df_fideos, df_azucar, df_yerba, df_leche, df_arroz, df_fernet])\n",
    "\n",
    "df_productos.groupby(\"producto\")[\"mean\"].agg({\"mean\", \"min\", \"max\"}).sort_values(by=\"mean\", ascending=False)"
   ]
  },
  {
   "cell_type": "markdown",
   "metadata": {},
   "source": [
    "# Productos que más aumentaron"
   ]
  },
  {
   "cell_type": "code",
   "execution_count": 128,
   "metadata": {},
   "outputs": [
    {
     "data": {
      "text/html": [
       "<div>\n",
       "<style scoped>\n",
       "    .dataframe tbody tr th:only-of-type {\n",
       "        vertical-align: middle;\n",
       "    }\n",
       "\n",
       "    .dataframe tbody tr th {\n",
       "        vertical-align: top;\n",
       "    }\n",
       "\n",
       "    .dataframe thead th {\n",
       "        text-align: right;\n",
       "    }\n",
       "</style>\n",
       "<table border=\"1\" class=\"dataframe\">\n",
       "  <thead>\n",
       "    <tr style=\"text-align: right;\">\n",
       "      <th></th>\n",
       "      <th>marca</th>\n",
       "      <th>nombre</th>\n",
       "      <th>producto_id</th>\n",
       "      <th>precio_inicio_periodo</th>\n",
       "      <th>precio_fin_periodo</th>\n",
       "      <th>variacion_periodo</th>\n",
       "      <th>comercioRazonSocial</th>\n",
       "      <th>sucursal_id_x</th>\n",
       "    </tr>\n",
       "  </thead>\n",
       "  <tbody>\n",
       "    <tr>\n",
       "      <th>12172</th>\n",
       "      <td>GILLETTE</td>\n",
       "      <td>Rasuradora Recargable Mach3 Sensitibe Gillette...</td>\n",
       "      <td>7702018037803</td>\n",
       "      <td>179.00</td>\n",
       "      <td>384.00</td>\n",
       "      <td>1.15</td>\n",
       "      <td>INC S.A.</td>\n",
       "      <td>10-3-644</td>\n",
       "    </tr>\n",
       "    <tr>\n",
       "      <th>251</th>\n",
       "      <td>MAGISTRAL</td>\n",
       "      <td>Detergente Aloe Magistral 500 Cc</td>\n",
       "      <td>7506309814629</td>\n",
       "      <td>79.00</td>\n",
       "      <td>169.00</td>\n",
       "      <td>1.14</td>\n",
       "      <td>Jumbo Retail Argentina S.A.</td>\n",
       "      <td>9-2-583</td>\n",
       "    </tr>\n",
       "    <tr>\n",
       "      <th>303</th>\n",
       "      <td>MAGISTRAL</td>\n",
       "      <td>Detergente Lavavajilla Botella Magistral 500 Cc</td>\n",
       "      <td>7506339398953</td>\n",
       "      <td>79.00</td>\n",
       "      <td>169.00</td>\n",
       "      <td>1.14</td>\n",
       "      <td>Jumbo Retail Argentina S.A.</td>\n",
       "      <td>9-2-583</td>\n",
       "    </tr>\n",
       "    <tr>\n",
       "      <th>257</th>\n",
       "      <td>MAGISTRAL</td>\n",
       "      <td>Detergente Manzana Verde Magistral 500 Ml</td>\n",
       "      <td>7506309878997</td>\n",
       "      <td>79.00</td>\n",
       "      <td>149.00</td>\n",
       "      <td>0.89</td>\n",
       "      <td>Jumbo Retail Argentina S.A.</td>\n",
       "      <td>9-2-583</td>\n",
       "    </tr>\n",
       "    <tr>\n",
       "      <th>2842</th>\n",
       "      <td>VILLA DEL SUR</td>\n",
       "      <td>Agua Mineral sin Gas en Bidon Villa del Sur 6....</td>\n",
       "      <td>7798062541397</td>\n",
       "      <td>108.00</td>\n",
       "      <td>180.00</td>\n",
       "      <td>0.67</td>\n",
       "      <td>Jumbo Retail Argentina S.A.</td>\n",
       "      <td>9-2-583</td>\n",
       "    </tr>\n",
       "    <tr>\n",
       "      <th>6142</th>\n",
       "      <td>NUTRILON</td>\n",
       "      <td>Alimento 5 Cereales sin Azucar Nutrilon 150 Gr</td>\n",
       "      <td>7795323003519</td>\n",
       "      <td>71.40</td>\n",
       "      <td>119.00</td>\n",
       "      <td>0.67</td>\n",
       "      <td>INC S.A.</td>\n",
       "      <td>10-2-119</td>\n",
       "    </tr>\n",
       "    <tr>\n",
       "      <th>2838</th>\n",
       "      <td>VILLA DEL SUR</td>\n",
       "      <td>Agua Mineral sin Gas en Bidon Villa del Sur 6....</td>\n",
       "      <td>7798062540116</td>\n",
       "      <td>108.00</td>\n",
       "      <td>180.00</td>\n",
       "      <td>0.67</td>\n",
       "      <td>Jumbo Retail Argentina S.A.</td>\n",
       "      <td>9-2-583</td>\n",
       "    </tr>\n",
       "    <tr>\n",
       "      <th>13010</th>\n",
       "      <td>NUGATÓN</td>\n",
       "      <td>Oblea de Chocolate Nugaton 8.5 Gr</td>\n",
       "      <td>7792360091974</td>\n",
       "      <td>10.20</td>\n",
       "      <td>17.00</td>\n",
       "      <td>0.67</td>\n",
       "      <td>INC S.A.</td>\n",
       "      <td>10-3-644</td>\n",
       "    </tr>\n",
       "    <tr>\n",
       "      <th>2258</th>\n",
       "      <td>JARDÍN</td>\n",
       "      <td>Limpiador Liquido Cristal Jardin Arpege 900 Cc</td>\n",
       "      <td>7792389000643</td>\n",
       "      <td>49.00</td>\n",
       "      <td>72.00</td>\n",
       "      <td>0.47</td>\n",
       "      <td>Jumbo Retail Argentina S.A.</td>\n",
       "      <td>9-2-583</td>\n",
       "    </tr>\n",
       "    <tr>\n",
       "      <th>2260</th>\n",
       "      <td>JARDÍN</td>\n",
       "      <td>Limpiador Liquido Colonia Cremo Jardin 900 Cc</td>\n",
       "      <td>7792389000704</td>\n",
       "      <td>49.00</td>\n",
       "      <td>72.00</td>\n",
       "      <td>0.47</td>\n",
       "      <td>Jumbo Retail Argentina S.A.</td>\n",
       "      <td>9-2-583</td>\n",
       "    </tr>\n",
       "    <tr>\n",
       "      <th>2259</th>\n",
       "      <td>JARDÍN</td>\n",
       "      <td>Limpiador Liquido Lavanda Cristal Jardin 900 Cc</td>\n",
       "      <td>7792389000667</td>\n",
       "      <td>49.00</td>\n",
       "      <td>72.00</td>\n",
       "      <td>0.47</td>\n",
       "      <td>Jumbo Retail Argentina S.A.</td>\n",
       "      <td>9-2-583</td>\n",
       "    </tr>\n",
       "    <tr>\n",
       "      <th>2253</th>\n",
       "      <td>JARDÍN</td>\n",
       "      <td>Limpiador Liquido Floral Cremo Jardin 900 Cc</td>\n",
       "      <td>7792389000315</td>\n",
       "      <td>49.00</td>\n",
       "      <td>72.00</td>\n",
       "      <td>0.47</td>\n",
       "      <td>Jumbo Retail Argentina S.A.</td>\n",
       "      <td>9-2-583</td>\n",
       "    </tr>\n",
       "    <tr>\n",
       "      <th>2291</th>\n",
       "      <td>HEINEKEN</td>\n",
       "      <td>Cerveza Rubia Premiun Heineken 6 Un</td>\n",
       "      <td>7792798005086</td>\n",
       "      <td>360.00</td>\n",
       "      <td>525.00</td>\n",
       "      <td>0.46</td>\n",
       "      <td>Jumbo Retail Argentina S.A.</td>\n",
       "      <td>9-2-583</td>\n",
       "    </tr>\n",
       "    <tr>\n",
       "      <th>2376</th>\n",
       "      <td>HEINEKEN</td>\n",
       "      <td>Cerveza en Lata Heineken 473 Cc 6 Un</td>\n",
       "      <td>7793147009175</td>\n",
       "      <td>360.00</td>\n",
       "      <td>525.00</td>\n",
       "      <td>0.46</td>\n",
       "      <td>Jumbo Retail Argentina S.A.</td>\n",
       "      <td>9-2-583</td>\n",
       "    </tr>\n",
       "    <tr>\n",
       "      <th>2371</th>\n",
       "      <td>IMPERIAL</td>\n",
       "      <td>Cerveza Rubia Lager Imperial 1 Lt</td>\n",
       "      <td>7793147000981</td>\n",
       "      <td>90.00</td>\n",
       "      <td>130.00</td>\n",
       "      <td>0.44</td>\n",
       "      <td>Jumbo Retail Argentina S.A.</td>\n",
       "      <td>9-2-583</td>\n",
       "    </tr>\n",
       "    <tr>\n",
       "      <th>2724</th>\n",
       "      <td>MILLER</td>\n",
       "      <td>Cerveza Rubia Miller 1 Lt</td>\n",
       "      <td>7795697431345</td>\n",
       "      <td>98.00</td>\n",
       "      <td>140.00</td>\n",
       "      <td>0.43</td>\n",
       "      <td>Jumbo Retail Argentina S.A.</td>\n",
       "      <td>9-2-583</td>\n",
       "    </tr>\n",
       "    <tr>\n",
       "      <th>2381</th>\n",
       "      <td>MILLER</td>\n",
       "      <td>Cerveza Rubia Miller Genuine Draft 1 Lt</td>\n",
       "      <td>7793147570088</td>\n",
       "      <td>98.00</td>\n",
       "      <td>140.00</td>\n",
       "      <td>0.43</td>\n",
       "      <td>Jumbo Retail Argentina S.A.</td>\n",
       "      <td>9-2-583</td>\n",
       "    </tr>\n",
       "    <tr>\n",
       "      <th>13834</th>\n",
       "      <td>SWIFT</td>\n",
       "      <td>Picadillo de Carne en Lata Swift 90 Gr</td>\n",
       "      <td>7790360720115</td>\n",
       "      <td>24.99</td>\n",
       "      <td>33.49</td>\n",
       "      <td>0.34</td>\n",
       "      <td>Cyre S.A.</td>\n",
       "      <td>7-2-802</td>\n",
       "    </tr>\n",
       "    <tr>\n",
       "      <th>13835</th>\n",
       "      <td>SWIFT</td>\n",
       "      <td>Pate de Foie Swift Lata 90 Gr</td>\n",
       "      <td>7790360720382</td>\n",
       "      <td>24.99</td>\n",
       "      <td>33.49</td>\n",
       "      <td>0.34</td>\n",
       "      <td>Cyre S.A.</td>\n",
       "      <td>7-2-802</td>\n",
       "    </tr>\n",
       "    <tr>\n",
       "      <th>13009</th>\n",
       "      <td>NUGATÓN</td>\n",
       "      <td>Chocolate Blanco Nugaton 27 Gr</td>\n",
       "      <td>7792360072461</td>\n",
       "      <td>35.78</td>\n",
       "      <td>47.70</td>\n",
       "      <td>0.33</td>\n",
       "      <td>INC S.A.</td>\n",
       "      <td>10-3-644</td>\n",
       "    </tr>\n",
       "  </tbody>\n",
       "</table>\n",
       "</div>"
      ],
      "text/plain": [
       "               marca                                             nombre  \\\n",
       "12172       GILLETTE  Rasuradora Recargable Mach3 Sensitibe Gillette...   \n",
       "251        MAGISTRAL                   Detergente Aloe Magistral 500 Cc   \n",
       "303        MAGISTRAL    Detergente Lavavajilla Botella Magistral 500 Cc   \n",
       "257        MAGISTRAL          Detergente Manzana Verde Magistral 500 Ml   \n",
       "2842   VILLA DEL SUR  Agua Mineral sin Gas en Bidon Villa del Sur 6....   \n",
       "6142        NUTRILON     Alimento 5 Cereales sin Azucar Nutrilon 150 Gr   \n",
       "2838   VILLA DEL SUR  Agua Mineral sin Gas en Bidon Villa del Sur 6....   \n",
       "13010        NUGATÓN                  Oblea de Chocolate Nugaton 8.5 Gr   \n",
       "2258          JARDÍN     Limpiador Liquido Cristal Jardin Arpege 900 Cc   \n",
       "2260          JARDÍN      Limpiador Liquido Colonia Cremo Jardin 900 Cc   \n",
       "2259          JARDÍN    Limpiador Liquido Lavanda Cristal Jardin 900 Cc   \n",
       "2253          JARDÍN       Limpiador Liquido Floral Cremo Jardin 900 Cc   \n",
       "2291        HEINEKEN                Cerveza Rubia Premiun Heineken 6 Un   \n",
       "2376        HEINEKEN               Cerveza en Lata Heineken 473 Cc 6 Un   \n",
       "2371        IMPERIAL                  Cerveza Rubia Lager Imperial 1 Lt   \n",
       "2724          MILLER                          Cerveza Rubia Miller 1 Lt   \n",
       "2381          MILLER            Cerveza Rubia Miller Genuine Draft 1 Lt   \n",
       "13834          SWIFT             Picadillo de Carne en Lata Swift 90 Gr   \n",
       "13835          SWIFT                      Pate de Foie Swift Lata 90 Gr   \n",
       "13009        NUGATÓN                     Chocolate Blanco Nugaton 27 Gr   \n",
       "\n",
       "         producto_id  precio_inicio_periodo  precio_fin_periodo  \\\n",
       "12172  7702018037803                 179.00              384.00   \n",
       "251    7506309814629                  79.00              169.00   \n",
       "303    7506339398953                  79.00              169.00   \n",
       "257    7506309878997                  79.00              149.00   \n",
       "2842   7798062541397                 108.00              180.00   \n",
       "6142   7795323003519                  71.40              119.00   \n",
       "2838   7798062540116                 108.00              180.00   \n",
       "13010  7792360091974                  10.20               17.00   \n",
       "2258   7792389000643                  49.00               72.00   \n",
       "2260   7792389000704                  49.00               72.00   \n",
       "2259   7792389000667                  49.00               72.00   \n",
       "2253   7792389000315                  49.00               72.00   \n",
       "2291   7792798005086                 360.00              525.00   \n",
       "2376   7793147009175                 360.00              525.00   \n",
       "2371   7793147000981                  90.00              130.00   \n",
       "2724   7795697431345                  98.00              140.00   \n",
       "2381   7793147570088                  98.00              140.00   \n",
       "13834  7790360720115                  24.99               33.49   \n",
       "13835  7790360720382                  24.99               33.49   \n",
       "13009  7792360072461                  35.78               47.70   \n",
       "\n",
       "       variacion_periodo          comercioRazonSocial sucursal_id_x  \n",
       "12172               1.15                     INC S.A.      10-3-644  \n",
       "251                 1.14  Jumbo Retail Argentina S.A.       9-2-583  \n",
       "303                 1.14  Jumbo Retail Argentina S.A.       9-2-583  \n",
       "257                 0.89  Jumbo Retail Argentina S.A.       9-2-583  \n",
       "2842                0.67  Jumbo Retail Argentina S.A.       9-2-583  \n",
       "6142                0.67                     INC S.A.      10-2-119  \n",
       "2838                0.67  Jumbo Retail Argentina S.A.       9-2-583  \n",
       "13010               0.67                     INC S.A.      10-3-644  \n",
       "2258                0.47  Jumbo Retail Argentina S.A.       9-2-583  \n",
       "2260                0.47  Jumbo Retail Argentina S.A.       9-2-583  \n",
       "2259                0.47  Jumbo Retail Argentina S.A.       9-2-583  \n",
       "2253                0.47  Jumbo Retail Argentina S.A.       9-2-583  \n",
       "2291                0.46  Jumbo Retail Argentina S.A.       9-2-583  \n",
       "2376                0.46  Jumbo Retail Argentina S.A.       9-2-583  \n",
       "2371                0.44  Jumbo Retail Argentina S.A.       9-2-583  \n",
       "2724                0.43  Jumbo Retail Argentina S.A.       9-2-583  \n",
       "2381                0.43  Jumbo Retail Argentina S.A.       9-2-583  \n",
       "13834               0.34                    Cyre S.A.       7-2-802  \n",
       "13835               0.34                    Cyre S.A.       7-2-802  \n",
       "13009               0.33                     INC S.A.      10-3-644  "
      ]
     },
     "execution_count": 128,
     "metadata": {},
     "output_type": "execute_result"
    }
   ],
   "source": [
    "df_precios[['marca', 'nombre', 'producto_id', 'precio_inicio_periodo', 'precio_fin_periodo', 'variacion_periodo', 'comercioRazonSocial', 'sucursal_id_x']] \\\n",
    "    .sort_values(by='variacion_periodo', ascending=False) \\\n",
    "    .head(20)"
   ]
  },
  {
   "cell_type": "code",
   "execution_count": 100,
   "metadata": {},
   "outputs": [
    {
     "data": {
      "text/html": [
       "<div>\n",
       "<style scoped>\n",
       "    .dataframe tbody tr th:only-of-type {\n",
       "        vertical-align: middle;\n",
       "    }\n",
       "\n",
       "    .dataframe tbody tr th {\n",
       "        vertical-align: top;\n",
       "    }\n",
       "\n",
       "    .dataframe thead th {\n",
       "        text-align: right;\n",
       "    }\n",
       "</style>\n",
       "<table border=\"1\" class=\"dataframe\">\n",
       "  <thead>\n",
       "    <tr style=\"text-align: right;\">\n",
       "      <th></th>\n",
       "      <th>marca</th>\n",
       "      <th>nombre</th>\n",
       "      <th>producto_id</th>\n",
       "      <th>precio_inicio_periodo</th>\n",
       "      <th>precio_fin_periodo</th>\n",
       "      <th>variacion_periodo</th>\n",
       "      <th>comercioRazonSocial</th>\n",
       "    </tr>\n",
       "  </thead>\n",
       "  <tbody>\n",
       "    <tr>\n",
       "      <th>453</th>\n",
       "      <td>GILLETTE</td>\n",
       "      <td>Rasuradora Recargable Mach3 Sensitibe Gillette...</td>\n",
       "      <td>7702018037803</td>\n",
       "      <td>519.0</td>\n",
       "      <td>519.0</td>\n",
       "      <td>0.00</td>\n",
       "      <td>Jumbo Retail Argentina S.A.</td>\n",
       "    </tr>\n",
       "    <tr>\n",
       "      <th>12172</th>\n",
       "      <td>GILLETTE</td>\n",
       "      <td>Rasuradora Recargable Mach3 Sensitibe Gillette...</td>\n",
       "      <td>7702018037803</td>\n",
       "      <td>179.0</td>\n",
       "      <td>384.0</td>\n",
       "      <td>1.15</td>\n",
       "      <td>INC S.A.</td>\n",
       "    </tr>\n",
       "  </tbody>\n",
       "</table>\n",
       "</div>"
      ],
      "text/plain": [
       "          marca                                             nombre  \\\n",
       "453    GILLETTE  Rasuradora Recargable Mach3 Sensitibe Gillette...   \n",
       "12172  GILLETTE  Rasuradora Recargable Mach3 Sensitibe Gillette...   \n",
       "\n",
       "         producto_id  precio_inicio_periodo  precio_fin_periodo  \\\n",
       "453    7702018037803                  519.0               519.0   \n",
       "12172  7702018037803                  179.0               384.0   \n",
       "\n",
       "       variacion_periodo          comercioRazonSocial  \n",
       "453                 0.00  Jumbo Retail Argentina S.A.  \n",
       "12172               1.15                     INC S.A.  "
      ]
     },
     "execution_count": 100,
     "metadata": {},
     "output_type": "execute_result"
    }
   ],
   "source": [
    "df_precios[['marca', 'nombre', 'producto_id', 'precio_inicio_periodo', 'precio_fin_periodo', 'variacion_periodo', 'comercioRazonSocial']] \\\n",
    "    .query('producto_id == \"7702018037803\"')"
   ]
  },
  {
   "cell_type": "markdown",
   "metadata": {},
   "source": [
    "## Dispersion de Precios\n",
    "\n",
    "¿Cuán dispersos son los precios de un mismo producto en los supermercados e hipermercados de Córdoba?"
   ]
  },
  {
   "cell_type": "markdown",
   "metadata": {},
   "source": [
    "### Diferencia Básica\n",
    "\n",
    "¿Qué porcentaje de productos tienen variación de precio en la Provincia? Me interesa solamente si el producto X tiene distinto precio en distintos establecimientos."
   ]
  },
  {
   "cell_type": "code",
   "execution_count": 87,
   "metadata": {},
   "outputs": [
    {
     "ename": "KeyError",
     "evalue": "'empresa'",
     "output_type": "error",
     "traceback": [
      "\u001b[0;31m---------------------------------------------------------------------------\u001b[0m",
      "\u001b[0;31mKeyError\u001b[0m                                  Traceback (most recent call last)",
      "\u001b[0;32m~/envs/jupyter/lib/python3.7/site-packages/pandas/core/indexes/base.py\u001b[0m in \u001b[0;36mget_loc\u001b[0;34m(self, key, method, tolerance)\u001b[0m\n\u001b[1;32m   2645\u001b[0m             \u001b[0;32mtry\u001b[0m\u001b[0;34m:\u001b[0m\u001b[0;34m\u001b[0m\u001b[0;34m\u001b[0m\u001b[0m\n\u001b[0;32m-> 2646\u001b[0;31m                 \u001b[0;32mreturn\u001b[0m \u001b[0mself\u001b[0m\u001b[0;34m.\u001b[0m\u001b[0m_engine\u001b[0m\u001b[0;34m.\u001b[0m\u001b[0mget_loc\u001b[0m\u001b[0;34m(\u001b[0m\u001b[0mkey\u001b[0m\u001b[0;34m)\u001b[0m\u001b[0;34m\u001b[0m\u001b[0;34m\u001b[0m\u001b[0m\n\u001b[0m\u001b[1;32m   2647\u001b[0m             \u001b[0;32mexcept\u001b[0m \u001b[0mKeyError\u001b[0m\u001b[0;34m:\u001b[0m\u001b[0;34m\u001b[0m\u001b[0;34m\u001b[0m\u001b[0m\n",
      "\u001b[0;32mpandas/_libs/index.pyx\u001b[0m in \u001b[0;36mpandas._libs.index.IndexEngine.get_loc\u001b[0;34m()\u001b[0m\n",
      "\u001b[0;32mpandas/_libs/index.pyx\u001b[0m in \u001b[0;36mpandas._libs.index.IndexEngine.get_loc\u001b[0;34m()\u001b[0m\n",
      "\u001b[0;32mpandas/_libs/hashtable_class_helper.pxi\u001b[0m in \u001b[0;36mpandas._libs.hashtable.PyObjectHashTable.get_item\u001b[0;34m()\u001b[0m\n",
      "\u001b[0;32mpandas/_libs/hashtable_class_helper.pxi\u001b[0m in \u001b[0;36mpandas._libs.hashtable.PyObjectHashTable.get_item\u001b[0;34m()\u001b[0m\n",
      "\u001b[0;31mKeyError\u001b[0m: 'empresa'",
      "\nDuring handling of the above exception, another exception occurred:\n",
      "\u001b[0;31mKeyError\u001b[0m                                  Traceback (most recent call last)",
      "\u001b[0;32m<ipython-input-87-8d399ec8d954>\u001b[0m in \u001b[0;36m<module>\u001b[0;34m\u001b[0m\n\u001b[1;32m      1\u001b[0m \u001b[0msample_suc_cba_capital\u001b[0m \u001b[0;34m=\u001b[0m \u001b[0;34m[\u001b[0m\u001b[0;34m\"Cordoba Donato Alvarez\"\u001b[0m\u001b[0;34m,\u001b[0m \u001b[0;34m\"Córdoba Sur\"\u001b[0m\u001b[0;34m,\u001b[0m \u001b[0;34m\"Hipermercado Poeta Lugones\"\u001b[0m\u001b[0;34m,\u001b[0m \u001b[0;34m\"Mini Libertad Colon\"\u001b[0m\u001b[0;34m,\u001b[0m \u001b[0;34m\"Mini Libertad Rondeau\"\u001b[0m\u001b[0;34m,\u001b[0m \u001b[0;34m\"Mini Libertad Tucuman\"\u001b[0m\u001b[0;34m,\u001b[0m \u001b[0;34m\"Mini Libertad Sagrada Familia\"\u001b[0m\u001b[0;34m,\u001b[0m \u001b[0;34m\"Córdoba Granaderos\"\u001b[0m\u001b[0;34m,\u001b[0m \u001b[0;34m\"Mini Libertad Nueva Cordoba\"\u001b[0m\u001b[0;34m]\u001b[0m\u001b[0;34m\u001b[0m\u001b[0;34m\u001b[0m\u001b[0m\n\u001b[1;32m      2\u001b[0m \u001b[0;34m\u001b[0m\u001b[0m\n\u001b[0;32m----> 3\u001b[0;31m \u001b[0mdf_variacion_basica\u001b[0m \u001b[0;34m=\u001b[0m \u001b[0mdf_precios\u001b[0m\u001b[0;34m[\u001b[0m\u001b[0mdf_precios\u001b[0m\u001b[0;34m[\u001b[0m\u001b[0;34m\"empresa\"\u001b[0m\u001b[0;34m]\u001b[0m \u001b[0;34m==\u001b[0m \u001b[0;34m\"Libertad S.A\"\u001b[0m\u001b[0;34m]\u001b[0m\u001b[0;31m \u001b[0m\u001b[0;31m\\\u001b[0m\u001b[0;34m\u001b[0m\u001b[0;34m\u001b[0m\u001b[0m\n\u001b[0m\u001b[1;32m      4\u001b[0m     \u001b[0;34m.\u001b[0m\u001b[0mgroupby\u001b[0m\u001b[0;34m(\u001b[0m\u001b[0;34m[\u001b[0m\u001b[0;34m\"producto_id\"\u001b[0m\u001b[0;34m,\u001b[0m \u001b[0;34m\"nombre\"\u001b[0m\u001b[0;34m]\u001b[0m\u001b[0;34m)\u001b[0m\u001b[0;34m[\u001b[0m\u001b[0;34m\"precio_fin_periodo\"\u001b[0m\u001b[0;34m]\u001b[0m\u001b[0;31m \u001b[0m\u001b[0;31m\\\u001b[0m\u001b[0;34m\u001b[0m\u001b[0;34m\u001b[0m\u001b[0m\n\u001b[1;32m      5\u001b[0m     \u001b[0;34m.\u001b[0m\u001b[0magg\u001b[0m\u001b[0;34m(\u001b[0m\u001b[0;34m{\u001b[0m\u001b[0;34m\"count\"\u001b[0m\u001b[0;34m,\u001b[0m\u001b[0;34m\"min\"\u001b[0m\u001b[0;34m,\u001b[0m\u001b[0;34m\"max\"\u001b[0m\u001b[0;34m,\u001b[0m \u001b[0;34m\"std\"\u001b[0m\u001b[0;34m}\u001b[0m\u001b[0;34m)\u001b[0m\u001b[0;34m\u001b[0m\u001b[0;34m\u001b[0m\u001b[0m\n",
      "\u001b[0;32m~/envs/jupyter/lib/python3.7/site-packages/pandas/core/frame.py\u001b[0m in \u001b[0;36m__getitem__\u001b[0;34m(self, key)\u001b[0m\n\u001b[1;32m   2798\u001b[0m             \u001b[0;32mif\u001b[0m \u001b[0mself\u001b[0m\u001b[0;34m.\u001b[0m\u001b[0mcolumns\u001b[0m\u001b[0;34m.\u001b[0m\u001b[0mnlevels\u001b[0m \u001b[0;34m>\u001b[0m \u001b[0;36m1\u001b[0m\u001b[0;34m:\u001b[0m\u001b[0;34m\u001b[0m\u001b[0;34m\u001b[0m\u001b[0m\n\u001b[1;32m   2799\u001b[0m                 \u001b[0;32mreturn\u001b[0m \u001b[0mself\u001b[0m\u001b[0;34m.\u001b[0m\u001b[0m_getitem_multilevel\u001b[0m\u001b[0;34m(\u001b[0m\u001b[0mkey\u001b[0m\u001b[0;34m)\u001b[0m\u001b[0;34m\u001b[0m\u001b[0;34m\u001b[0m\u001b[0m\n\u001b[0;32m-> 2800\u001b[0;31m             \u001b[0mindexer\u001b[0m \u001b[0;34m=\u001b[0m \u001b[0mself\u001b[0m\u001b[0;34m.\u001b[0m\u001b[0mcolumns\u001b[0m\u001b[0;34m.\u001b[0m\u001b[0mget_loc\u001b[0m\u001b[0;34m(\u001b[0m\u001b[0mkey\u001b[0m\u001b[0;34m)\u001b[0m\u001b[0;34m\u001b[0m\u001b[0;34m\u001b[0m\u001b[0m\n\u001b[0m\u001b[1;32m   2801\u001b[0m             \u001b[0;32mif\u001b[0m \u001b[0mis_integer\u001b[0m\u001b[0;34m(\u001b[0m\u001b[0mindexer\u001b[0m\u001b[0;34m)\u001b[0m\u001b[0;34m:\u001b[0m\u001b[0;34m\u001b[0m\u001b[0;34m\u001b[0m\u001b[0m\n\u001b[1;32m   2802\u001b[0m                 \u001b[0mindexer\u001b[0m \u001b[0;34m=\u001b[0m \u001b[0;34m[\u001b[0m\u001b[0mindexer\u001b[0m\u001b[0;34m]\u001b[0m\u001b[0;34m\u001b[0m\u001b[0;34m\u001b[0m\u001b[0m\n",
      "\u001b[0;32m~/envs/jupyter/lib/python3.7/site-packages/pandas/core/indexes/base.py\u001b[0m in \u001b[0;36mget_loc\u001b[0;34m(self, key, method, tolerance)\u001b[0m\n\u001b[1;32m   2646\u001b[0m                 \u001b[0;32mreturn\u001b[0m \u001b[0mself\u001b[0m\u001b[0;34m.\u001b[0m\u001b[0m_engine\u001b[0m\u001b[0;34m.\u001b[0m\u001b[0mget_loc\u001b[0m\u001b[0;34m(\u001b[0m\u001b[0mkey\u001b[0m\u001b[0;34m)\u001b[0m\u001b[0;34m\u001b[0m\u001b[0;34m\u001b[0m\u001b[0m\n\u001b[1;32m   2647\u001b[0m             \u001b[0;32mexcept\u001b[0m \u001b[0mKeyError\u001b[0m\u001b[0;34m:\u001b[0m\u001b[0;34m\u001b[0m\u001b[0;34m\u001b[0m\u001b[0m\n\u001b[0;32m-> 2648\u001b[0;31m                 \u001b[0;32mreturn\u001b[0m \u001b[0mself\u001b[0m\u001b[0;34m.\u001b[0m\u001b[0m_engine\u001b[0m\u001b[0;34m.\u001b[0m\u001b[0mget_loc\u001b[0m\u001b[0;34m(\u001b[0m\u001b[0mself\u001b[0m\u001b[0;34m.\u001b[0m\u001b[0m_maybe_cast_indexer\u001b[0m\u001b[0;34m(\u001b[0m\u001b[0mkey\u001b[0m\u001b[0;34m)\u001b[0m\u001b[0;34m)\u001b[0m\u001b[0;34m\u001b[0m\u001b[0;34m\u001b[0m\u001b[0m\n\u001b[0m\u001b[1;32m   2649\u001b[0m         \u001b[0mindexer\u001b[0m \u001b[0;34m=\u001b[0m \u001b[0mself\u001b[0m\u001b[0;34m.\u001b[0m\u001b[0mget_indexer\u001b[0m\u001b[0;34m(\u001b[0m\u001b[0;34m[\u001b[0m\u001b[0mkey\u001b[0m\u001b[0;34m]\u001b[0m\u001b[0;34m,\u001b[0m \u001b[0mmethod\u001b[0m\u001b[0;34m=\u001b[0m\u001b[0mmethod\u001b[0m\u001b[0;34m,\u001b[0m \u001b[0mtolerance\u001b[0m\u001b[0;34m=\u001b[0m\u001b[0mtolerance\u001b[0m\u001b[0;34m)\u001b[0m\u001b[0;34m\u001b[0m\u001b[0;34m\u001b[0m\u001b[0m\n\u001b[1;32m   2650\u001b[0m         \u001b[0;32mif\u001b[0m \u001b[0mindexer\u001b[0m\u001b[0;34m.\u001b[0m\u001b[0mndim\u001b[0m \u001b[0;34m>\u001b[0m \u001b[0;36m1\u001b[0m \u001b[0;32mor\u001b[0m \u001b[0mindexer\u001b[0m\u001b[0;34m.\u001b[0m\u001b[0msize\u001b[0m \u001b[0;34m>\u001b[0m \u001b[0;36m1\u001b[0m\u001b[0;34m:\u001b[0m\u001b[0;34m\u001b[0m\u001b[0;34m\u001b[0m\u001b[0m\n",
      "\u001b[0;32mpandas/_libs/index.pyx\u001b[0m in \u001b[0;36mpandas._libs.index.IndexEngine.get_loc\u001b[0;34m()\u001b[0m\n",
      "\u001b[0;32mpandas/_libs/index.pyx\u001b[0m in \u001b[0;36mpandas._libs.index.IndexEngine.get_loc\u001b[0;34m()\u001b[0m\n",
      "\u001b[0;32mpandas/_libs/hashtable_class_helper.pxi\u001b[0m in \u001b[0;36mpandas._libs.hashtable.PyObjectHashTable.get_item\u001b[0;34m()\u001b[0m\n",
      "\u001b[0;32mpandas/_libs/hashtable_class_helper.pxi\u001b[0m in \u001b[0;36mpandas._libs.hashtable.PyObjectHashTable.get_item\u001b[0;34m()\u001b[0m\n",
      "\u001b[0;31mKeyError\u001b[0m: 'empresa'"
     ]
    }
   ],
   "source": [
    "sample_suc_cba_capital = [\"Cordoba Donato Alvarez\", \"Córdoba Sur\", \"Hipermercado Poeta Lugones\", \"Mini Libertad Colon\", \"Mini Libertad Rondeau\", \"Mini Libertad Tucuman\", \"Mini Libertad Sagrada Familia\", \"Córdoba Granaderos\", \"Mini Libertad Nueva Cordoba\"]\n",
    "\n",
    "df_variacion_basica = df_precios[df_precios[\"empresa\"] == \"Libertad S.A\"] \\\n",
    "    .groupby([\"producto_id\", \"nombre\"])[\"precio_fin_periodo\"] \\\n",
    "    .agg({\"count\",\"min\",\"max\", \"std\"})\n",
    "\n",
    "df_variacion_basica[\"diferencia_precio_max_min\"] = df_variacion_basica[\"max\"] - df_variacion_basica[\"min\"]\n",
    "df_variacion_basica[\"hay_diferencia\"] = df_variacion_basica[\"diferencia_precio_max_min\"] != 0.0\n",
    "df_variacion_basica = df_variacion_basica[df_variacion_basica[\"count\"] > 5]\n",
    "\n",
    "df_variacion_basica.hay_diferencia.value_counts()"
   ]
  },
  {
   "cell_type": "code",
   "execution_count": 30,
   "metadata": {},
   "outputs": [
    {
     "data": {
      "text/plain": [
       "0.971677559912854"
      ]
     },
     "execution_count": 30,
     "metadata": {},
     "output_type": "execute_result"
    }
   ],
   "source": [
    "1784 / (1784 + 52)"
   ]
  },
  {
   "cell_type": "code",
   "execution_count": 31,
   "metadata": {},
   "outputs": [
    {
     "data": {
      "text/plain": [
       "array(['Libertad S.A'], dtype=object)"
      ]
     },
     "execution_count": 31,
     "metadata": {},
     "output_type": "execute_result"
    }
   ],
   "source": [
    "df_precios[df_precios.localidad == \"Capital\"].empresa.unique()"
   ]
  },
  {
   "cell_type": "code",
   "execution_count": 32,
   "metadata": {},
   "outputs": [
    {
     "data": {
      "text/html": [
       "<div>\n",
       "<style scoped>\n",
       "    .dataframe tbody tr th:only-of-type {\n",
       "        vertical-align: middle;\n",
       "    }\n",
       "\n",
       "    .dataframe tbody tr th {\n",
       "        vertical-align: top;\n",
       "    }\n",
       "\n",
       "    .dataframe thead th {\n",
       "        text-align: right;\n",
       "    }\n",
       "</style>\n",
       "<table border=\"1\" class=\"dataframe\">\n",
       "  <thead>\n",
       "    <tr style=\"text-align: right;\">\n",
       "      <th></th>\n",
       "      <th></th>\n",
       "      <th>count</th>\n",
       "      <th>std</th>\n",
       "      <th>max</th>\n",
       "      <th>min</th>\n",
       "      <th>diferencia_precio_max_min</th>\n",
       "      <th>hay_diferencia</th>\n",
       "    </tr>\n",
       "    <tr>\n",
       "      <th>producto_id</th>\n",
       "      <th>nombre</th>\n",
       "      <th></th>\n",
       "      <th></th>\n",
       "      <th></th>\n",
       "      <th></th>\n",
       "      <th></th>\n",
       "      <th></th>\n",
       "    </tr>\n",
       "  </thead>\n",
       "  <tbody>\n",
       "  </tbody>\n",
       "</table>\n",
       "</div>"
      ],
      "text/plain": [
       "Empty DataFrame\n",
       "Columns: [count, std, max, min, diferencia_precio_max_min, hay_diferencia]\n",
       "Index: []"
      ]
     },
     "execution_count": 32,
     "metadata": {},
     "output_type": "execute_result"
    }
   ],
   "source": [
    "df_variacion_basica[df_variacion_basica.hay_diferencia == True]"
   ]
  },
  {
   "cell_type": "code",
   "execution_count": 33,
   "metadata": {},
   "outputs": [
    {
     "data": {
      "text/html": [
       "<div>\n",
       "<style scoped>\n",
       "    .dataframe tbody tr th:only-of-type {\n",
       "        vertical-align: middle;\n",
       "    }\n",
       "\n",
       "    .dataframe tbody tr th {\n",
       "        vertical-align: top;\n",
       "    }\n",
       "\n",
       "    .dataframe thead th {\n",
       "        text-align: right;\n",
       "    }\n",
       "</style>\n",
       "<table border=\"1\" class=\"dataframe\">\n",
       "  <thead>\n",
       "    <tr style=\"text-align: right;\">\n",
       "      <th></th>\n",
       "      <th></th>\n",
       "      <th>count</th>\n",
       "      <th>std</th>\n",
       "      <th>max</th>\n",
       "      <th>min</th>\n",
       "      <th>diferencia_precio_max_min</th>\n",
       "      <th>hay_diferencia</th>\n",
       "    </tr>\n",
       "    <tr>\n",
       "      <th>producto_id</th>\n",
       "      <th>nombre</th>\n",
       "      <th></th>\n",
       "      <th></th>\n",
       "      <th></th>\n",
       "      <th></th>\n",
       "      <th></th>\n",
       "      <th></th>\n",
       "    </tr>\n",
       "  </thead>\n",
       "  <tbody>\n",
       "  </tbody>\n",
       "</table>\n",
       "</div>"
      ],
      "text/plain": [
       "Empty DataFrame\n",
       "Columns: [count, std, max, min, diferencia_precio_max_min, hay_diferencia]\n",
       "Index: []"
      ]
     },
     "execution_count": 33,
     "metadata": {},
     "output_type": "execute_result"
    }
   ],
   "source": [
    "df_variacion_basica[df_variacion_basica.hay_diferencia == False]"
   ]
  },
  {
   "cell_type": "code",
   "execution_count": 34,
   "metadata": {},
   "outputs": [
    {
     "data": {
      "text/plain": [
       "0.0"
      ]
     },
     "execution_count": 34,
     "metadata": {},
     "output_type": "execute_result"
    }
   ],
   "source": [
    "pd.Series([1,1,1]).std()"
   ]
  },
  {
   "cell_type": "code",
   "execution_count": 35,
   "metadata": {},
   "outputs": [],
   "source": [
    "zscore = lambda x: (x - x.mean()) / x.std()\n",
    "\n",
    "df_precios[\"precio_fin_periodo_normalized\"] = df_precios.groupby([\"producto_id\", \"nombre\"])[\"precio_fin_periodo\"].transform(zscore)"
   ]
  },
  {
   "cell_type": "code",
   "execution_count": 36,
   "metadata": {},
   "outputs": [
    {
     "data": {
      "text/plain": [
       "<matplotlib.axes._subplots.AxesSubplot at 0x1970bf91828>"
      ]
     },
     "execution_count": 36,
     "metadata": {},
     "output_type": "execute_result"
    },
    {
     "data": {
      "image/png": "[encoded data removed]",
      "text/plain": [
       "<Figure size 720x432 with 1 Axes>"
      ]
     },
     "metadata": {},
     "output_type": "display_data"
    }
   ],
   "source": [
    "df_precios[\"precio_fin_periodo_normalized\"].hist(bins=50)"
   ]
  },
  {
   "cell_type": "code",
   "execution_count": 37,
   "metadata": {},
   "outputs": [
    {
     "data": {
      "text/plain": [
       "producto_id    nombre                                                         \n",
       "7794940000796  Edulcorante Liquido Hileret Zucra 200 Cc                           3.455048\n",
       "7891150023505  Shampoo 2 en 1 Fuerza Extrema Dove Men 400 Ml                      3.162256\n",
       "7790742104205  Dulce de Leche Colonial La Serenisima 250 Gr                       3.162245\n",
       "7790150100752  Cafe Instantaneo Torrado Clasico Equilibrado La Virginia 100 Gr    3.162237\n",
       "7790520009340  Limpiador Liquido Floral Mr Musculo 1.8 Lt                         3.162218\n",
       "Name: precio_fin_periodo_normalized, dtype: float64"
      ]
     },
     "execution_count": 37,
     "metadata": {},
     "output_type": "execute_result"
    }
   ],
   "source": [
    "my_range = lambda x: x.max() - x.min()\n",
    "\n",
    "df_dispersion = df_precios.groupby([\"producto_id\", \"nombre\"])[\"precio_fin_periodo_normalized\"].agg(my_range)\n",
    "\n",
    "df_dispersion.sort_values(ascending=False).head()"
   ]
  },
  {
   "cell_type": "code",
   "execution_count": 38,
   "metadata": {},
   "outputs": [
    {
     "data": {
      "text/html": [
       "<div>\n",
       "<style scoped>\n",
       "    .dataframe tbody tr th:only-of-type {\n",
       "        vertical-align: middle;\n",
       "    }\n",
       "\n",
       "    .dataframe tbody tr th {\n",
       "        vertical-align: top;\n",
       "    }\n",
       "\n",
       "    .dataframe thead th {\n",
       "        text-align: right;\n",
       "    }\n",
       "</style>\n",
       "<table border=\"1\" class=\"dataframe\">\n",
       "  <thead>\n",
       "    <tr style=\"text-align: right;\">\n",
       "      <th></th>\n",
       "      <th>producto_id</th>\n",
       "      <th>sucursal_id</th>\n",
       "      <th>precio_inicio_periodo</th>\n",
       "      <th>precio_fin_periodo</th>\n",
       "      <th>variacion_periodo</th>\n",
       "      <th>nombre</th>\n",
       "      <th>marca</th>\n",
       "      <th>presentacion</th>\n",
       "      <th>localidad</th>\n",
       "      <th>sucursalNombre</th>\n",
       "      <th>direccion</th>\n",
       "      <th>sucursalTipo</th>\n",
       "      <th>empresa</th>\n",
       "      <th>cadena</th>\n",
       "      <th>precio_fin_periodo_normalized</th>\n",
       "    </tr>\n",
       "  </thead>\n",
       "  <tbody>\n",
       "    <tr>\n",
       "      <th>280</th>\n",
       "      <td>7798108830201</td>\n",
       "      <td>16-1-102</td>\n",
       "      <td>118.99</td>\n",
       "      <td>118.99</td>\n",
       "      <td>0.00</td>\n",
       "      <td>Vino Tinto Syrah Alta Callia 750 Cc</td>\n",
       "      <td>CALLIA</td>\n",
       "      <td>750.0 cc</td>\n",
       "      <td>Capital</td>\n",
       "      <td>Hipermercado Poeta Lugones</td>\n",
       "      <td>Fray Luis Beltrán Y Manuel Cardeñosa None</td>\n",
       "      <td>Hipermercado</td>\n",
       "      <td>Libertad S.A</td>\n",
       "      <td>Hipermercado Libertad</td>\n",
       "      <td>0.447214</td>\n",
       "    </tr>\n",
       "    <tr>\n",
       "      <th>9185</th>\n",
       "      <td>7798108830201</td>\n",
       "      <td>16-1-602</td>\n",
       "      <td>118.99</td>\n",
       "      <td>118.99</td>\n",
       "      <td>0.00</td>\n",
       "      <td>Vino Tinto Syrah Alta Callia 750 Cc</td>\n",
       "      <td>CALLIA</td>\n",
       "      <td>750.0 cc</td>\n",
       "      <td>Capital</td>\n",
       "      <td>Hipermercado Ruta 9</td>\n",
       "      <td>Avda. Amadeo Sabattini 3250</td>\n",
       "      <td>Hipermercado</td>\n",
       "      <td>Libertad S.A</td>\n",
       "      <td>Hipermercado Libertad</td>\n",
       "      <td>0.447214</td>\n",
       "    </tr>\n",
       "    <tr>\n",
       "      <th>17718</th>\n",
       "      <td>7798108830201</td>\n",
       "      <td>16-1-2502</td>\n",
       "      <td>118.99</td>\n",
       "      <td>118.99</td>\n",
       "      <td>0.00</td>\n",
       "      <td>Vino Tinto Syrah Alta Callia 750 Cc</td>\n",
       "      <td>CALLIA</td>\n",
       "      <td>750.0 cc</td>\n",
       "      <td>Capital</td>\n",
       "      <td>Hipermercado Rivera Indarte</td>\n",
       "      <td>Av.Ricardo Rojas Y Manuel De Falla None</td>\n",
       "      <td>Hipermercado</td>\n",
       "      <td>Libertad S.A</td>\n",
       "      <td>Hipermercado Libertad</td>\n",
       "      <td>0.447214</td>\n",
       "    </tr>\n",
       "    <tr>\n",
       "      <th>26167</th>\n",
       "      <td>7798108830201</td>\n",
       "      <td>16-1-202</td>\n",
       "      <td>118.99</td>\n",
       "      <td>118.99</td>\n",
       "      <td>0.00</td>\n",
       "      <td>Vino Tinto Syrah Alta Callia 750 Cc</td>\n",
       "      <td>CALLIA</td>\n",
       "      <td>750.0 cc</td>\n",
       "      <td>Capital</td>\n",
       "      <td>Hipermercado Jacinto Rios</td>\n",
       "      <td>Libertad 1100</td>\n",
       "      <td>Hipermercado</td>\n",
       "      <td>Libertad S.A</td>\n",
       "      <td>Hipermercado Libertad</td>\n",
       "      <td>0.447214</td>\n",
       "    </tr>\n",
       "    <tr>\n",
       "      <th>34275</th>\n",
       "      <td>7798108830201</td>\n",
       "      <td>11-5-1010</td>\n",
       "      <td>119.00</td>\n",
       "      <td>101.15</td>\n",
       "      <td>-0.15</td>\n",
       "      <td>Vino Tinto Syrah Alta Callia 750 Cc</td>\n",
       "      <td>CALLIA</td>\n",
       "      <td>750.0 cc</td>\n",
       "      <td>CIUDAD DE CORDOBA NORTE</td>\n",
       "      <td>Córdoba Sur</td>\n",
       "      <td>Av Circunvalacion Este 2557</td>\n",
       "      <td>Hipermercado</td>\n",
       "      <td>Wal Mart Argentina S.R.L.</td>\n",
       "      <td>Walmart SuperCenter</td>\n",
       "      <td>-1.788854</td>\n",
       "    </tr>\n",
       "  </tbody>\n",
       "</table>\n",
       "</div>"
      ],
      "text/plain": [
       "         producto_id sucursal_id  precio_inicio_periodo  precio_fin_periodo  \\\n",
       "280    7798108830201    16-1-102                 118.99              118.99   \n",
       "9185   7798108830201    16-1-602                 118.99              118.99   \n",
       "17718  7798108830201   16-1-2502                 118.99              118.99   \n",
       "26167  7798108830201    16-1-202                 118.99              118.99   \n",
       "34275  7798108830201   11-5-1010                 119.00              101.15   \n",
       "\n",
       "       variacion_periodo                               nombre   marca  \\\n",
       "280                 0.00  Vino Tinto Syrah Alta Callia 750 Cc  CALLIA   \n",
       "9185                0.00  Vino Tinto Syrah Alta Callia 750 Cc  CALLIA   \n",
       "17718               0.00  Vino Tinto Syrah Alta Callia 750 Cc  CALLIA   \n",
       "26167               0.00  Vino Tinto Syrah Alta Callia 750 Cc  CALLIA   \n",
       "34275              -0.15  Vino Tinto Syrah Alta Callia 750 Cc  CALLIA   \n",
       "\n",
       "      presentacion                localidad               sucursalNombre  \\\n",
       "280       750.0 cc                  Capital   Hipermercado Poeta Lugones   \n",
       "9185      750.0 cc                  Capital          Hipermercado Ruta 9   \n",
       "17718     750.0 cc                  Capital  Hipermercado Rivera Indarte   \n",
       "26167     750.0 cc                  Capital    Hipermercado Jacinto Rios   \n",
       "34275     750.0 cc  CIUDAD DE CORDOBA NORTE                  Córdoba Sur   \n",
       "\n",
       "                                       direccion  sucursalTipo  \\\n",
       "280    Fray Luis Beltrán Y Manuel Cardeñosa None  Hipermercado   \n",
       "9185                 Avda. Amadeo Sabattini 3250  Hipermercado   \n",
       "17718    Av.Ricardo Rojas Y Manuel De Falla None  Hipermercado   \n",
       "26167                              Libertad 1100  Hipermercado   \n",
       "34275                Av Circunvalacion Este 2557  Hipermercado   \n",
       "\n",
       "                         empresa                 cadena  \\\n",
       "280                 Libertad S.A  Hipermercado Libertad   \n",
       "9185                Libertad S.A  Hipermercado Libertad   \n",
       "17718               Libertad S.A  Hipermercado Libertad   \n",
       "26167               Libertad S.A  Hipermercado Libertad   \n",
       "34275  Wal Mart Argentina S.R.L.    Walmart SuperCenter   \n",
       "\n",
       "       precio_fin_periodo_normalized  \n",
       "280                         0.447214  \n",
       "9185                        0.447214  \n",
       "17718                       0.447214  \n",
       "26167                       0.447214  \n",
       "34275                      -1.788854  "
      ]
     },
     "execution_count": 38,
     "metadata": {},
     "output_type": "execute_result"
    }
   ],
   "source": [
    "df_precios[df_precios.producto_id == \"7798108830201\"] "
   ]
  },
  {
   "cell_type": "code",
   "execution_count": 39,
   "metadata": {},
   "outputs": [
    {
     "data": {
      "text/plain": [
       "0             NaN\n",
       "1             NaN\n",
       "2             NaN\n",
       "3             NaN\n",
       "4             NaN\n",
       "5             NaN\n",
       "6             NaN\n",
       "7             NaN\n",
       "8             NaN\n",
       "9             NaN\n",
       "10            NaN\n",
       "11      -0.447214\n",
       "12       0.707107\n",
       "13      -0.500000\n",
       "14            NaN\n",
       "15      -0.500000\n",
       "16            NaN\n",
       "17      -0.447214\n",
       "18            NaN\n",
       "19      -0.447214\n",
       "20      -0.447214\n",
       "21            NaN\n",
       "22      -0.447214\n",
       "23       0.554208\n",
       "24       0.447214\n",
       "25      -0.447214\n",
       "26      -0.465353\n",
       "27       0.577350\n",
       "28      -0.640135\n",
       "29      -0.447214\n",
       "           ...   \n",
       "43407         NaN\n",
       "43408         NaN\n",
       "43409         NaN\n",
       "43410         NaN\n",
       "43411         NaN\n",
       "43412         NaN\n",
       "43413         NaN\n",
       "43414         NaN\n",
       "43415         NaN\n",
       "43416         NaN\n",
       "43417         NaN\n",
       "43418         NaN\n",
       "43419         NaN\n",
       "43420         NaN\n",
       "43421         NaN\n",
       "43422         NaN\n",
       "43423         NaN\n",
       "43424         NaN\n",
       "43425         NaN\n",
       "43426         NaN\n",
       "43427         NaN\n",
       "43428         NaN\n",
       "43429         NaN\n",
       "43430         NaN\n",
       "43431         NaN\n",
       "43432         NaN\n",
       "43433         NaN\n",
       "43434         NaN\n",
       "43435         NaN\n",
       "43436         NaN\n",
       "Name: precio_fin_periodo, Length: 43437, dtype: float64"
      ]
     },
     "execution_count": 39,
     "metadata": {},
     "output_type": "execute_result"
    }
   ],
   "source": [
    "def my_zscore(col):\n",
    "    return (col - col.mean()) / col.std()\n",
    "    \n",
    "df_precios.groupby([\"producto_id\", \"nombre\"])[\"precio_fin_periodo\"].apply(my_zscore)"
   ]
  }
 ],
 "metadata": {
  "kernelspec": {
   "display_name": "Python 3",
   "language": "python",
   "name": "python3"
  },
  "language_info": {
   "codemirror_mode": {
    "name": "ipython",
    "version": 3
   },
   "file_extension": ".py",
   "mimetype": "text/x-python",
   "name": "python",
   "nbconvert_exporter": "python",
   "pygments_lexer": "ipython3",
   "version": "3.7.3"
  }
 },
 "nbformat": 4,
 "nbformat_minor": 4
}
